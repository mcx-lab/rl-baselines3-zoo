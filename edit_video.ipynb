{
 "cells": [
  {
   "cell_type": "code",
   "execution_count": 2,
   "metadata": {},
   "outputs": [],
   "source": [
    "root_dir = \"/home/daniel/Documents/github/mcx-lab/rl-baselines3-zoo\"\n",
    "model_dir = root_dir + \"/logs/ppo/A1GymEnv-v0_3\"\n",
    "video_path = model_dir + \"/videos/active_step_testing/15cm.mp4\"\n",
    "save_dir = model_dir + \"/images/active_step_testing\"\n",
    "\n",
    "from pathlib import Path\n",
    "from scripts.plot_stats import iter_video_frames\n",
    "import cv2\n",
    "Path(save_dir).mkdir(exist_ok=True, parents=True)\n",
    "\n",
    "for i, frame in enumerate(iter_video_frames(video_path)):\n",
    "    cv2.imwrite(save_dir + f\"/15cm_frame_{i}.png\", frame)\n",
    "    "
   ]
  }
 ],
 "metadata": {
  "interpreter": {
   "hash": "ee3bb4c681c16afaca5ce5daeb93e1cbe02bcdb573b5a82c4c5cf6b16d9005d5"
  },
  "kernelspec": {
   "display_name": "Python 3.8.12 ('rl-baselines-zoo-cu113')",
   "language": "python",
   "name": "python3"
  },
  "language_info": {
   "codemirror_mode": {
    "name": "ipython",
    "version": 3
   },
   "file_extension": ".py",
   "mimetype": "text/x-python",
   "name": "python",
   "nbconvert_exporter": "python",
   "pygments_lexer": "ipython3",
   "version": "3.8.12"
  },
  "orig_nbformat": 4
 },
 "nbformat": 4,
 "nbformat_minor": 2
}
