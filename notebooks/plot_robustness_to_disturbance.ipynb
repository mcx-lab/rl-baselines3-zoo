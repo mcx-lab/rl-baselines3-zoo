{
 "cells": [
  {
   "cell_type": "code",
   "execution_count": 11,
   "metadata": {},
   "outputs": [],
   "source": [
    "from pathlib import Path\n",
    "\n",
    "project_dir = Path('.').absolute().parent\n",
    "project_dir\n",
    "\n",
    "model_dir = project_dir / 'logs' / 'ppo' / 'A1GymEnv-v0_44'"
   ]
  },
  {
   "cell_type": "markdown",
   "metadata": {},
   "source": [
    "# Inspect logged inputs / outputs\n",
    "\n",
    "Logs generated with `scripts/enjoy_with_logging.py`"
   ]
  },
  {
   "cell_type": "code",
   "execution_count": 12,
   "metadata": {},
   "outputs": [],
   "source": [
    "import numpy as np\n",
    "import pickle \n",
    "import json\n",
    "\n",
    "def load_robot_states(stats_dir):\n",
    "    base_rpy = np.load(stats_dir / 'base_rpy.npy')\n",
    "    base_position = np.load(stats_dir / 'base_position.npy')\n",
    "    base_velocity = np.load(stats_dir / 'base_velocity.npy')\n",
    "    motor_position = np.load(stats_dir / 'motor_position.npy')\n",
    "    motor_velocity = np.load(stats_dir / 'motor_velocity.npy')\n",
    "    ref_displacement = np.load(stats_dir / 'reference_displacement.npy')\n",
    "    act_displacement = np.load(stats_dir / 'actual_displacement.npy')\n",
    "    ref_foot_contacts = np.load(stats_dir / 'reference_foot_contact.npy')\n",
    "    act_foot_contacts = np.load(stats_dir / 'actual_foot_contact.npy')\n",
    "    nn_observations = np.load(stats_dir / 'nn_observations.npy')\n",
    "\n",
    "    reward_component_values = np.load(stats_dir / 'reward_components.npy')\n",
    "    with open(stats_dir / 'reward_component_names.json', 'r') as file:\n",
    "        reward_component_names = json.load(file)\n",
    "    print(nn_observations.shape)\n",
    "    nn_actions = np.load(stats_dir / 'nn_actions.npy')\n",
    "    time = np.load(stats_dir / 'time.npy')\n",
    "    \n",
    "    return {\n",
    "        'time': time, \n",
    "        'base_rpy': base_rpy,\n",
    "        'base_pos': base_position,\n",
    "        'base_vel': base_velocity,\n",
    "        'motor_pos': motor_position, \n",
    "        'motor_vel': motor_velocity, \n",
    "        'ref_displacement': ref_displacement,\n",
    "        'act_displacement': act_displacement,\n",
    "        'ref_foot_contacts': ref_foot_contacts, \n",
    "        'act_foot_contacts': act_foot_contacts, \n",
    "        'nn_obs': nn_observations,\n",
    "        'nn_act': nn_actions,\n",
    "        'reward_component_values': reward_component_values,\n",
    "        'reward_component_names': reward_component_names\n",
    "    }\n",
    "\n",
    "def load_normalizer(model_dir):\n",
    "    with open(model_dir / 'A1GymEnv-v0' / 'vecnormalize.pkl', 'rb') as file:\n",
    "        normalizer = pickle.load(file)\n",
    "    return normalizer"
   ]
  },
  {
   "cell_type": "code",
   "execution_count": 13,
   "metadata": {},
   "outputs": [],
   "source": [
    "import matplotlib.pyplot as plt\n",
    "\n",
    "NUM_TIMESTEPS = 200\n",
    "\n",
    "google_blue = (66 / 256, 133 / 256, 244 / 256, 1)\n",
    "google_red = (219 / 256, 68 / 256, 55 / 256, 1)\n",
    "google_yellow = (244 / 256, 180 / 256, 0, 1)\n",
    "google_green = (15 / 256, 157 / 256, 88 / 256, 1)\n",
    "\n",
    "foot_names = ['FR', 'FL', 'RR', 'RL']\n",
    "foot_colors = [google_blue, google_red, google_yellow, google_green]\n",
    "    \n",
    "def draw_up_arrow(ax, x):\n",
    "    ax.arrow(x -0.4, -0.35, 0, 0.2, length_includes_head=True, head_width=0.6, head_length=0.04, color='black')\n",
    "\n",
    "def draw_down_arrow(ax, x):\n",
    "    ax.arrow(x -0.4, 0.35, 0, -0.2, length_includes_head=True, head_width=0.6, head_length=0.04, color='black')\n",
    "\n",
    "def draw_spanning_arrow(ax, x1, y1, x2, y2, name=\"\"):\n",
    "    xmid = (x1 + x2) / 2 \n",
    "    ymid = (y1 + y2) / 2\n",
    "\n",
    "    xdiff = xmid - x1 \n",
    "    ydiff = ymid - y2\n",
    "\n",
    "    ax.text(xmid, ymid + 0.1, name, horizontalalignment='center', verticalalignment='center', fontsize=12, color='red')\n",
    "    ax.arrow(xmid, ymid, xdiff, ydiff, color='red', length_includes_head=True, head_width=0.04, head_length=0.5)\n",
    "    ax.arrow(xmid, ymid, -xdiff, -ydiff, color='red', length_includes_head=True, head_width=0.04, head_length=0.5)\n",
    "\n",
    "def get_interpolate_value(x, y, x_query):\n",
    "    idx_last = None\n",
    "    x_last = None\n",
    "    for idx_curr, x_curr in enumerate(x):\n",
    "        if x_query > x_curr:\n",
    "            idx_last = idx_curr\n",
    "            x_last = x_curr\n",
    "        else:\n",
    "            break\n",
    "    if idx_curr >= len(x):\n",
    "        return np.NaN\n",
    "    y_last = y[idx_last]\n",
    "    y_curr = y[idx_curr]\n",
    "    \n",
    "    return (y_curr * (x_curr - x_query) + y_last * (x_query - x_last)) / (x_curr - x_last) \n",
    "\n",
    "def plot_xy_coordinates_distribution(ax, statss):\n",
    "    xs = []\n",
    "    ys = []\n",
    "    survivals = []\n",
    "    for stats in statss:\n",
    "        base_pos = stats['base_pos']\n",
    "        nrows = base_pos.shape[0]\n",
    "        base_pos = np.pad(base_pos, ((0, 3000 - nrows), (0, 0)), constant_values=np.NaN)\n",
    "        xs.append(base_pos[:,0])\n",
    "        ys.append(base_pos[:,1])\n",
    "        survivals.append(1 if nrows == 3000 else 0)\n",
    "\n",
    "    survival_rate = np.mean(survivals)\n",
    "\n",
    "    # Arbitrarily define x-indices for plotting\n",
    "    x_plot = np.linspace(0.001, 50, num = 4000)\n",
    "    y_mean = []\n",
    "    y_std = []\n",
    "    # Obtain the interpolated y-values to calculate mean and stdev\n",
    "    for i, x_query in enumerate(x_plot):\n",
    "        y_querys = []\n",
    "        for x, y in zip(xs, ys):\n",
    "            y_querys.append(get_interpolate_value(x, y, x_query.item()))\n",
    "        y_mean.append(np.nanmean(y_querys))\n",
    "        y_std.append(np.nanstd(y_querys))\n",
    "\n",
    "    y_mean = np.array(y_mean)\n",
    "    y_std = np.array(y_std)\n",
    "\n",
    "    ax.plot(x_plot, y_mean, color=google_green)\n",
    "    ax.axhline(0.0, color = 'blue', linestyle='--')\n",
    "    ax.fill_between(x_plot, y_mean + y_std, y_mean - y_std, color='tab:green', alpha=0.2)\n",
    "\n",
    "    print(\"Survival rate: \", survival_rate)"
   ]
  },
  {
   "cell_type": "markdown",
   "metadata": {},
   "source": [
    "# Generate plots for Hurdles environment"
   ]
  },
  {
   "cell_type": "code",
   "execution_count": 14,
   "metadata": {},
   "outputs": [
    {
     "name": "stdout",
     "output_type": "stream",
     "text": [
      "(3000, 1, 108)\n",
      "(3000, 1, 108)\n",
      "(3000, 1, 108)\n",
      "(3000, 1, 108)\n",
      "(3000, 1, 108)\n",
      "(3000, 1, 108)\n",
      "(3000, 1, 108)\n",
      "(3000, 1, 108)\n",
      "(3000, 1, 108)\n",
      "(3000, 1, 108)\n",
      "(3000, 1, 108)\n",
      "(3000, 1, 108)\n",
      "(3000, 1, 108)\n",
      "(3000, 1, 108)\n",
      "(3000, 1, 108)\n",
      "(3000, 1, 108)\n",
      "(3000, 1, 108)\n",
      "(3000, 1, 108)\n",
      "(3000, 1, 108)\n",
      "(1736, 1, 108)\n"
     ]
    }
   ],
   "source": [
    "statss = []\n",
    "for seed in range(20):\n",
    "    stats_dir = model_dir / f'throw-obj-hurdles-seed{seed}'\n",
    "    stats = load_robot_states(stats_dir)\n",
    "    stats['name'] = f'seed{seed}'\n",
    "    statss.append(stats)"
   ]
  },
  {
   "cell_type": "code",
   "execution_count": 15,
   "metadata": {},
   "outputs": [
    {
     "name": "stderr",
     "output_type": "stream",
     "text": [
      "/tmp/ipykernel_13519/2290010699.py:44: RuntimeWarning: invalid value encountered in double_scalars\n",
      "  return (y_curr * (x_curr - x_query) + y_last * (x_query - x_last)) / (x_curr - x_last)\n",
      "/tmp/ipykernel_13519/2290010699.py:69: RuntimeWarning: Mean of empty slice\n",
      "  y_mean.append(np.nanmean(y_querys))\n",
      "/home/dtch1997/anaconda3/envs/rl-baselines3-zoo/lib/python3.8/site-packages/numpy/lib/nanfunctions.py:1664: RuntimeWarning: Degrees of freedom <= 0 for slice.\n",
      "  var = nanvar(a, axis=axis, dtype=dtype, out=out, ddof=ddof,\n"
     ]
    },
    {
     "name": "stdout",
     "output_type": "stream",
     "text": [
      "Survival rate:  0.95\n"
     ]
    },
    {
     "name": "stderr",
     "output_type": "stream",
     "text": [
      "/tmp/ipykernel_13519/1701071988.py:27: MatplotlibDeprecationWarning: savefig() got unexpected keyword argument \"bbox_layout\" which is no longer supported as of 3.3 and will become an error two minor releases later\n",
      "  fig.savefig(\"robustness_thrown_hurdles.pdf\", format=\"pdf\", bbox_layout=\"tight\")\n"
     ]
    },
    {
     "data": {
      "image/png": "[encoded data removed]",
      "text/plain": [
       "<Figure size 720x180 with 1 Axes>"
      ]
     },
     "metadata": {
      "needs_background": "light"
     },
     "output_type": "display_data"
    }
   ],
   "source": [
    "import matplotlib.pyplot as plt\n",
    "\n",
    "obstacle_pos = [5.0, 11.0, 19.0, 26.0]\n",
    "obstacle_names = ('3cm hurdle', '4cm hurdle', '5cm hurdle', '6cm hurdle')\n",
    "throw_directions = [1, 1, 1, 1, 1, 1]\n",
    "\n",
    "def plot_hurdle_arrows(ax):\n",
    "    ax.set_xlim(0, 30)\n",
    "    ax.set_ylim(-1.0, 1.0)\n",
    "    throw_idx = 0\n",
    "    for i, start in enumerate(obstacle_pos):\n",
    "        # ax.axvspan(start, end, color='gray', alpha=0.2)\n",
    "        draw_spanning_arrow(ax, start, 0.7, start+0.1, 0.7, name=obstacle_names[i])\n",
    "        if throw_directions[throw_idx] == 1: \n",
    "            draw_up_arrow(ax, start)\n",
    "        else: draw_down_arrow(ax, start)\n",
    "        throw_idx += 1\n",
    "\n",
    "fig, ax = plt.subplots(figsize=(10,2.5))\n",
    "ax.set_xlabel('Forward distance travelled (m)')\n",
    "ax.set_ylabel('Lateral deviation (m)')\n",
    "# ax[1].set_ylabel('Survival rate')\n",
    "# ax[1].set_ylim(0.0, 1.1)\n",
    "plot_hurdle_arrows(ax)\n",
    "plot_xy_coordinates_distribution(ax, statss)\n",
    "fig.tight_layout()\n",
    "fig.savefig(\"robustness_thrown_hurdles.pdf\", format=\"pdf\", bbox_layout=\"tight\")"
   ]
  }
 ],
 "metadata": {
  "kernelspec": {
   "display_name": "Python 3.8.13 ('rl-baselines3-zoo')",
   "language": "python",
   "name": "python3"
  },
  "language_info": {
   "codemirror_mode": {
    "name": "ipython",
    "version": 3
   },
   "file_extension": ".py",
   "mimetype": "text/x-python",
   "name": "python",
   "nbconvert_exporter": "python",
   "pygments_lexer": "ipython3",
   "version": "3.8.13"
  },
  "orig_nbformat": 4,
  "vscode": {
   "interpreter": {
    "hash": "e2b45693051beb004434d4abfe7850193e55356daad13399c41cf46cc1ff6a5e"
   }
  }
 },
 "nbformat": 4,
 "nbformat_minor": 2
}
