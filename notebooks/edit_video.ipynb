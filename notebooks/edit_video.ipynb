{
 "cells": [
  {
   "cell_type": "code",
   "execution_count": 6,
   "metadata": {},
   "outputs": [
    {
     "name": "stdout",
     "output_type": "stream",
     "text": [
      "Moviepy - Building video output.mp4.\n",
      "Moviepy - Writing video output.mp4\n",
      "\n"
     ]
    },
    {
     "name": "stderr",
     "output_type": "stream",
     "text": [
      "                                                               \r"
     ]
    },
    {
     "name": "stdout",
     "output_type": "stream",
     "text": [
      "Moviepy - Done !\n",
      "Moviepy - video ready output.mp4\n"
     ]
    }
   ],
   "source": [
    "import moviepy.editor as mp\n",
    "\n",
    "video_file_path = \"/home/daniel/Documents/github/mcx-lab/rl-baselines3-zoo/logs/locomotion-baselines/ppo/A1GymEnv-v0_9/with-gait-schedule/final-model-ppo-A1GymEnv-v0-step-0-to-step-1000.mp4\"\n",
    "my_video = mp.VideoFileClip(video_file_path, audio=True)\n",
    "w,h = moviesize = my_video.size\n",
    "\n",
    "text_list = [\"walk\", \"trot\", \"canter\", \"pace\", \"walk\"]\n",
    "clip_list = []\n",
    "\n",
    "for text in text_list:\n",
    "\n",
    "    text_clip = mp.TextClip(\n",
    "        f\"Gait: {text}\", \n",
    "        font='Amiri-regular', \n",
    "        color='black', \n",
    "        fontsize=34\n",
    "    ).set_duration(6.6).set_pos(lambda t: (w / 10, 5 * h / 6))\n",
    "    clip_list.append(text_clip)\n",
    "\n",
    "all_text_clips = mp.concatenate(clip_list, method = \"compose\")\n",
    "final = mp.CompositeVideoClip([my_video,all_text_clips])\n",
    "final.subclip(0,33).write_videofile(\n",
    "    'output.mp4',fps=30,codec='libx264')"
   ]
  }
 ],
 "metadata": {
  "interpreter": {
   "hash": "f2a96d4239f922d1465d3ad565198bab42f19a2fadc8d7bfdb11bbdda257849f"
  },
  "kernelspec": {
   "display_name": "Python 3.8.13 ('moviepy')",
   "language": "python",
   "name": "python3"
  },
  "language_info": {
   "codemirror_mode": {
    "name": "ipython",
    "version": 3
   },
   "file_extension": ".py",
   "mimetype": "text/x-python",
   "name": "python",
   "nbconvert_exporter": "python",
   "pygments_lexer": "ipython3",
   "version": "3.8.13"
  },
  "orig_nbformat": 4
 },
 "nbformat": 4,
 "nbformat_minor": 2
}
