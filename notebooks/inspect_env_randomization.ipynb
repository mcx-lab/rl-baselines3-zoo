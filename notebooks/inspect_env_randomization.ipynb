{
 "cells": [
  {
   "cell_type": "code",
   "execution_count": 9,
   "metadata": {},
   "outputs": [
    {
     "name": "stderr",
     "output_type": "stream",
     "text": [
      "/home/daniel/anaconda3/envs/rl-baselines-zoo-cu113/lib/python3.8/site-packages/gym/logger.py:34: UserWarning: \u001b[33mWARN: Box bound precision lowered by casting to float32\u001b[0m\n",
      "  warnings.warn(colorize(\"%s: %s\" % (\"WARN\", msg % args), \"yellow\"))\n"
     ]
    },
    {
     "name": "stdout",
     "output_type": "stream",
     "text": [
      "argv[0]=\n",
      "[-1.  1.  1. -1.]\n",
      "0.6666666666666666\n",
      "[[ 0.45307429 -0.89147276]\n",
      " [-0.45307429  0.89147276]\n",
      " [-0.45307429  0.89147276]\n",
      " [ 0.45307429 -0.89147276]]\n",
      "argv[0]=\n",
      "[-1.  1.  1. -1.]\n",
      "0.6666666666666666\n",
      "[[-0.26458023 -0.96436368]\n",
      " [ 0.26458023  0.96436368]\n",
      " [ 0.26458023  0.96436368]\n",
      " [-0.26458023 -0.96436368]]\n",
      "argv[0]=\n",
      "[ 1. -1. -1.  1.]\n",
      "0.6666666666666666\n",
      "[[ 0.56717228  0.82359917]\n",
      " [-0.56717228 -0.82359917]\n",
      " [-0.56717228 -0.82359917]\n",
      " [ 0.56717228  0.82359917]]\n"
     ]
    }
   ],
   "source": [
    "# Export butterworth filter coefficients and history\n",
    "import gym \n",
    "import numpy as np\n",
    "import utils.import_envs\n",
    "from stable_baselines3.common.utils import set_random_seed\n",
    "\n",
    "seed = np.random.randint(2 ** 32 - 1, dtype=\"int64\").item()\n",
    "set_random_seed(seed)\n",
    "\n",
    "for i in range(3):\n",
    "    env = gym.make(\"A1GymEnv-v0\", gait_frequency=1.5, deterministic=True)\n",
    "    env.reset()\n",
    "    obs = env.get_observation()\n",
    "    sensors = env.all_sensors()\n",
    "    print(obs['ReferenceGait_flatten'])\n",
    "    print(sensors[-1].get_period())\n",
    "    print(sensors[-1].cpg_system.get_state())\n"
   ]
  }
 ],
 "metadata": {
  "interpreter": {
   "hash": "ee3bb4c681c16afaca5ce5daeb93e1cbe02bcdb573b5a82c4c5cf6b16d9005d5"
  },
  "kernelspec": {
   "display_name": "Python 3.8.12 ('rl-baselines-zoo-cu113')",
   "language": "python",
   "name": "python3"
  },
  "language_info": {
   "codemirror_mode": {
    "name": "ipython",
    "version": 3
   },
   "file_extension": ".py",
   "mimetype": "text/x-python",
   "name": "python",
   "nbconvert_exporter": "python",
   "pygments_lexer": "ipython3",
   "version": "3.8.12"
  },
  "orig_nbformat": 4
 },
 "nbformat": 4,
 "nbformat_minor": 2
}
