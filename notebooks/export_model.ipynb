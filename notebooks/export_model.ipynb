{
 "cells": [
  {
   "cell_type": "code",
   "execution_count": 1,
   "metadata": {},
   "outputs": [],
   "source": [
    "from pathlib import Path\n",
    "\n",
    "project_dir = Path('.').absolute().parent\n",
    "model_dir = project_dir / 'logs/locomotion_baselines' / 'ppo' / 'A1GymEnv-v0_1'"
   ]
  },
  {
   "cell_type": "code",
   "execution_count": 2,
   "metadata": {},
   "outputs": [
    {
     "data": {
      "text/plain": [
       "Sequential(\n",
       "  (0): Linear(in_features=50, out_features=256, bias=True)\n",
       "  (1): ReLU()\n",
       "  (2): Linear(in_features=256, out_features=256, bias=True)\n",
       "  (3): ReLU()\n",
       "  (4): Linear(in_features=256, out_features=12, bias=True)\n",
       ")"
      ]
     },
     "execution_count": 2,
     "metadata": {},
     "output_type": "execute_result"
    }
   ],
   "source": [
    "import torch.nn as nn\n",
    "from utils import ALGOS\n",
    "\n",
    "model_path = model_dir / \"A1GymEnv-v0.zip\"\n",
    "model = ALGOS[\"ppo\"].load(model_path)\n",
    "\n",
    "def extract_policy_layers(model):\n",
    "    mlp_extractor = model.policy.mlp_extractor.policy_net\n",
    "    action_net = model.policy.action_net\n",
    "\n",
    "    layers = []\n",
    "    for m in mlp_extractor.modules():\n",
    "        if not isinstance(m, nn.Sequential):\n",
    "            layers.append(m)\n",
    "    layers.append(action_net)\n",
    "\n",
    "    return nn.Sequential(*layers)\n",
    "\n",
    "policy_net = extract_policy_layers(model)\n",
    "policy_net.eval()"
   ]
  },
  {
   "cell_type": "code",
   "execution_count": 4,
   "metadata": {},
   "outputs": [
    {
     "name": "stdout",
     "output_type": "stream",
     "text": [
      "0_weight torch.Size([256, 50])\n",
      "0_bias torch.Size([256, 1])\n",
      "2_weight torch.Size([256, 256])\n",
      "2_bias torch.Size([256, 1])\n",
      "4_weight torch.Size([12, 256])\n",
      "4_bias torch.Size([12, 1])\n"
     ]
    }
   ],
   "source": [
    "import torch\n",
    "import numpy as np\n",
    "\n",
    "# Export model weights as csv\n",
    "params_dir = model_dir / 'parameters'\n",
    "params_dir.mkdir(exist_ok=True, parents=True)\n",
    "\n",
    "def save_tensor_as_csv(path, t: torch.Tensor):\n",
    "    t_np = t.detach().cpu().numpy()\n",
    "    np.savetxt(path, t_np, delimiter = ',')\n",
    "\n",
    "for name, param in policy_net.named_parameters():\n",
    "    if len(param.size()) == 1:\n",
    "        param = torch.unsqueeze(param, axis=-1)\n",
    "    name = name.replace('.', '_')\n",
    "    print(name, param.size())\n",
    "    save_tensor_as_csv(params_dir / f'{name}.csv', param)"
   ]
  },
  {
   "cell_type": "code",
   "execution_count": 5,
   "metadata": {},
   "outputs": [
    {
     "name": "stdout",
     "output_type": "stream",
     "text": [
      "(1, 50) (1, 50)\n"
     ]
    }
   ],
   "source": [
    "# Export normalizer parameters\n",
    "import pickle\n",
    "normalizer_path = model_dir / \"A1GymEnv-v0\" / \"vecnormalize.pkl\"\n",
    "with open(normalizer_path, \"rb\") as pkl:\n",
    "    normalizer = pickle.load(pkl)\n",
    "\n",
    "obs_mean = np.sqrt(normalizer.obs_rms.var + normalizer.epsilon)\n",
    "obs_std = normalizer.obs_rms.mean \n",
    "obs_mean = obs_mean.reshape(1,-1)\n",
    "obs_std = obs_std.reshape(1,-1)\n",
    "print(obs_mean.shape, obs_std.shape)\n",
    "\n",
    "np.savetxt(params_dir / 'obs_mean.csv', obs_mean, delimiter = ',')\n",
    "np.savetxt(params_dir / 'obs_std.csv', obs_mean, delimiter = ',')"
   ]
  },
  {
   "cell_type": "code",
   "execution_count": 6,
   "metadata": {},
   "outputs": [
    {
     "name": "stdout",
     "output_type": "stream",
     "text": [
      "[[ 0.    0.67 -1.25  0.    0.67 -1.25  0.    0.67 -1.25  0.    0.67 -1.25]]\n"
     ]
    },
    {
     "name": "stderr",
     "output_type": "stream",
     "text": [
      "/home/daniel/anaconda3/envs/rl-baselines-zoo-cu113/lib/python3.8/site-packages/gym/logger.py:34: UserWarning: \u001b[33mWARN: Box bound precision lowered by casting to float32\u001b[0m\n",
      "  warnings.warn(colorize(\"%s: %s\" % (\"WARN\", msg % args), \"yellow\"))\n"
     ]
    }
   ],
   "source": [
    "# Export default pose and motor polarity\n",
    "from blind_walking.envs.env_wrappers import simple_openloop\n",
    "\n",
    "pose_offset = simple_openloop.LaikagoPoseOffsetGenerator()._pose.reshape(1,-1)\n",
    "np.savetxt(params_dir / 'pose_offset.csv', pose_offset, delimiter = ',')\n",
    "print(pose_offset)\n",
    "\n",
    "motor_polarity = np.array([1, -1, -1] * 4).reshape(1,-1)\n",
    "np.savetxt(params_dir / 'motor_signs.csv', motor_polarity, delimiter = ',')"
   ]
  },
  {
   "cell_type": "code",
   "execution_count": 7,
   "metadata": {},
   "outputs": [],
   "source": [
    "# Export nn observations and actions\n",
    "nn_obs = np.load(str(model_dir / 'stats' / 'nn_observations.npy'))\n",
    "nn_act = np.load(str(model_dir / 'stats' / 'nn_actions.npy'))\n",
    "nn_obs = np.squeeze(nn_obs)\n",
    "nn_act = np.squeeze(nn_act)\n",
    "np.savetxt(str(params_dir / 'nn_observations.csv'), nn_obs,  delimiter = ',')\n",
    "np.savetxt(str(params_dir / 'nn_actions.csv'), nn_act, delimiter = ',')"
   ]
  },
  {
   "cell_type": "code",
   "execution_count": 14,
   "metadata": {},
   "outputs": [],
   "source": [
    "# Export motion capture\n",
    "motor_position = np.load(str(model_dir / 'stats' / 'motor_position.npy'))\n",
    "motor_position = np.squeeze(motor_position)\n",
    "np.savetxt(str(params_dir / 'motor_position.csv'), motor_position,  delimiter = ',')\n",
    "\n",
    "motor_velocity = np.load(str(model_dir / 'stats' / 'motor_velocity.npy'))\n",
    "motor_velocity = np.squeeze(motor_velocity)\n",
    "np.savetxt(str(params_dir / 'motor_velocity.csv'), motor_velocity,  delimiter = ',')\n",
    "\n",
    "base_vel = np.load(str(model_dir / 'stats' / 'base_vel.npy'))\n",
    "base_vel = np.squeeze(base_vel)\n",
    "np.savetxt(str(params_dir / 'base_vel.csv'), base_vel,  delimiter = ',')\n",
    "\n",
    "base_rpy = np.load(str(model_dir / 'stats' / 'base_rpy.npy'))\n",
    "base_rpy = np.squeeze(base_rpy)\n",
    "np.savetxt(str(params_dir / 'base_rpy.csv'), base_rpy,  delimiter = ',')\n",
    "\n",
    "base_rpy_rate = np.load(str(model_dir / 'stats' / 'base_rpy_rate.npy'))\n",
    "base_rpy_rate = np.squeeze(base_rpy_rate)\n",
    "np.savetxt(str(params_dir / 'base_rpy_rate.csv'), base_rpy_rate,  delimiter = ',')\n",
    "\n",
    "reference_foot_contact = np.load(str(model_dir / 'stats' / 'reference_foot_contact.npy'))\n",
    "reference_foot_contact = np.squeeze(reference_foot_contact)\n",
    "np.savetxt(str(params_dir / 'reference_foot_contact.csv'), reference_foot_contact, delimiter=',')"
   ]
  },
  {
   "cell_type": "code",
   "execution_count": 8,
   "metadata": {},
   "outputs": [],
   "source": [
    "# Export sample in-out pairs\n",
    "import json\n",
    "\n",
    "policy_net.eval()\n",
    "policy_net = policy_net.to(torch.device('cpu'))\n",
    "sample_output_dir = model_dir / 'sample_inp_oup'\n",
    "sample_output_dir.mkdir(exist_ok=True, parents=True)\n",
    "\n",
    "sample_inputs = {\n",
    "    'zeros': torch.zeros(1, 50),\n",
    "    'ones': torch.ones(1, 50)\n",
    "}\n",
    "inp_oup_names = {}\n",
    "for name, inp_value in sample_inputs.items():\n",
    "    inp_name = name + '_in.csv'\n",
    "    oup_name = name + '_out.csv'\n",
    "    inp_oup_names[inp_name] = oup_name\n",
    "    oup_value = policy_net(inp_value)\n",
    "    save_tensor_as_csv(sample_output_dir / inp_name, inp_value)\n",
    "    save_tensor_as_csv(sample_output_dir / oup_name, oup_value)\n",
    "\n",
    "with open(sample_output_dir / 'inp_oup_name_pairs.txt', 'w') as file:\n",
    "    for inp_name, oup_name in inp_oup_names.items():\n",
    "        line = ','.join([inp_name, oup_name]) + \"\\n\"\n",
    "        file.write(line)"
   ]
  },
  {
   "cell_type": "code",
   "execution_count": 9,
   "metadata": {},
   "outputs": [
    {
     "name": "stderr",
     "output_type": "stream",
     "text": [
      "pybullet build time: Jan 19 2022 23:07:37\n"
     ]
    },
    {
     "ename": "TypeError",
     "evalue": "__init__() missing 1 required positional argument: 'gait_name'",
     "output_type": "error",
     "traceback": [
      "\u001b[0;31m---------------------------------------------------------------------------\u001b[0m",
      "\u001b[0;31mTypeError\u001b[0m                                 Traceback (most recent call last)",
      "\u001b[1;32m/home/daniel/Documents/github/mcx-lab/rl-baselines3-zoo/notebooks/export_model.ipynb Cell 8'\u001b[0m in \u001b[0;36m<cell line: 5>\u001b[0;34m()\u001b[0m\n\u001b[1;32m      <a href='vscode-notebook-cell:/home/daniel/Documents/github/mcx-lab/rl-baselines3-zoo/notebooks/export_model.ipynb#ch0000007?line=2'>3</a>\u001b[0m \u001b[39mimport\u001b[39;00m \u001b[39mnumpy\u001b[39;00m \u001b[39mas\u001b[39;00m \u001b[39mnp\u001b[39;00m\n\u001b[1;32m      <a href='vscode-notebook-cell:/home/daniel/Documents/github/mcx-lab/rl-baselines3-zoo/notebooks/export_model.ipynb#ch0000007?line=3'>4</a>\u001b[0m \u001b[39mimport\u001b[39;00m \u001b[39mutils\u001b[39;00m\u001b[39m.\u001b[39;00m\u001b[39mimport_envs\u001b[39;00m\n\u001b[0;32m----> <a href='vscode-notebook-cell:/home/daniel/Documents/github/mcx-lab/rl-baselines3-zoo/notebooks/export_model.ipynb#ch0000007?line=4'>5</a>\u001b[0m env \u001b[39m=\u001b[39m gym\u001b[39m.\u001b[39;49mmake(\u001b[39m\"\u001b[39;49m\u001b[39mA1GymEnv-v0\u001b[39;49m\u001b[39m\"\u001b[39;49m)\n\u001b[1;32m      <a href='vscode-notebook-cell:/home/daniel/Documents/github/mcx-lab/rl-baselines3-zoo/notebooks/export_model.ipynb#ch0000007?line=5'>6</a>\u001b[0m env\u001b[39m.\u001b[39mreset()\n\u001b[1;32m      <a href='vscode-notebook-cell:/home/daniel/Documents/github/mcx-lab/rl-baselines3-zoo/notebooks/export_model.ipynb#ch0000007?line=7'>8</a>\u001b[0m \u001b[39mfilter\u001b[39m \u001b[39m=\u001b[39m env\u001b[39m.\u001b[39mrobot\u001b[39m.\u001b[39m_action_filter\n",
      "File \u001b[0;32m~/anaconda3/envs/rl-baselines-zoo-cu113/lib/python3.8/site-packages/gym/envs/registration.py:184\u001b[0m, in \u001b[0;36mmake\u001b[0;34m(id, **kwargs)\u001b[0m\n\u001b[1;32m    <a href='file:///home/daniel/anaconda3/envs/rl-baselines-zoo-cu113/lib/python3.8/site-packages/gym/envs/registration.py?line=182'>183</a>\u001b[0m \u001b[39mdef\u001b[39;00m \u001b[39mmake\u001b[39m(\u001b[39mid\u001b[39m, \u001b[39m*\u001b[39m\u001b[39m*\u001b[39mkwargs):\n\u001b[0;32m--> <a href='file:///home/daniel/anaconda3/envs/rl-baselines-zoo-cu113/lib/python3.8/site-packages/gym/envs/registration.py?line=183'>184</a>\u001b[0m     \u001b[39mreturn\u001b[39;00m registry\u001b[39m.\u001b[39;49mmake(\u001b[39mid\u001b[39;49m, \u001b[39m*\u001b[39;49m\u001b[39m*\u001b[39;49mkwargs)\n",
      "File \u001b[0;32m~/anaconda3/envs/rl-baselines-zoo-cu113/lib/python3.8/site-packages/gym/envs/registration.py:106\u001b[0m, in \u001b[0;36mEnvRegistry.make\u001b[0;34m(self, path, **kwargs)\u001b[0m\n\u001b[1;32m    <a href='file:///home/daniel/anaconda3/envs/rl-baselines-zoo-cu113/lib/python3.8/site-packages/gym/envs/registration.py?line=103'>104</a>\u001b[0m     logger\u001b[39m.\u001b[39minfo(\u001b[39m\"\u001b[39m\u001b[39mMaking new env: \u001b[39m\u001b[39m%s\u001b[39;00m\u001b[39m\"\u001b[39m, path)\n\u001b[1;32m    <a href='file:///home/daniel/anaconda3/envs/rl-baselines-zoo-cu113/lib/python3.8/site-packages/gym/envs/registration.py?line=104'>105</a>\u001b[0m spec \u001b[39m=\u001b[39m \u001b[39mself\u001b[39m\u001b[39m.\u001b[39mspec(path)\n\u001b[0;32m--> <a href='file:///home/daniel/anaconda3/envs/rl-baselines-zoo-cu113/lib/python3.8/site-packages/gym/envs/registration.py?line=105'>106</a>\u001b[0m env \u001b[39m=\u001b[39m spec\u001b[39m.\u001b[39;49mmake(\u001b[39m*\u001b[39;49m\u001b[39m*\u001b[39;49mkwargs)\n\u001b[1;32m    <a href='file:///home/daniel/anaconda3/envs/rl-baselines-zoo-cu113/lib/python3.8/site-packages/gym/envs/registration.py?line=106'>107</a>\u001b[0m \u001b[39m# We used to have people override _reset/_step rather than\u001b[39;00m\n\u001b[1;32m    <a href='file:///home/daniel/anaconda3/envs/rl-baselines-zoo-cu113/lib/python3.8/site-packages/gym/envs/registration.py?line=107'>108</a>\u001b[0m \u001b[39m# reset/step. Set _gym_disable_underscore_compat = True on\u001b[39;00m\n\u001b[1;32m    <a href='file:///home/daniel/anaconda3/envs/rl-baselines-zoo-cu113/lib/python3.8/site-packages/gym/envs/registration.py?line=108'>109</a>\u001b[0m \u001b[39m# your environment if you use these methods and don't want\u001b[39;00m\n\u001b[1;32m    <a href='file:///home/daniel/anaconda3/envs/rl-baselines-zoo-cu113/lib/python3.8/site-packages/gym/envs/registration.py?line=109'>110</a>\u001b[0m \u001b[39m# compatibility code to be invoked.\u001b[39;00m\n\u001b[1;32m    <a href='file:///home/daniel/anaconda3/envs/rl-baselines-zoo-cu113/lib/python3.8/site-packages/gym/envs/registration.py?line=110'>111</a>\u001b[0m \u001b[39mif\u001b[39;00m (\n\u001b[1;32m    <a href='file:///home/daniel/anaconda3/envs/rl-baselines-zoo-cu113/lib/python3.8/site-packages/gym/envs/registration.py?line=111'>112</a>\u001b[0m     \u001b[39mhasattr\u001b[39m(env, \u001b[39m\"\u001b[39m\u001b[39m_reset\u001b[39m\u001b[39m\"\u001b[39m)\n\u001b[1;32m    <a href='file:///home/daniel/anaconda3/envs/rl-baselines-zoo-cu113/lib/python3.8/site-packages/gym/envs/registration.py?line=112'>113</a>\u001b[0m     \u001b[39mand\u001b[39;00m \u001b[39mhasattr\u001b[39m(env, \u001b[39m\"\u001b[39m\u001b[39m_step\u001b[39m\u001b[39m\"\u001b[39m)\n\u001b[1;32m    <a href='file:///home/daniel/anaconda3/envs/rl-baselines-zoo-cu113/lib/python3.8/site-packages/gym/envs/registration.py?line=113'>114</a>\u001b[0m     \u001b[39mand\u001b[39;00m \u001b[39mnot\u001b[39;00m \u001b[39mgetattr\u001b[39m(env, \u001b[39m\"\u001b[39m\u001b[39m_gym_disable_underscore_compat\u001b[39m\u001b[39m\"\u001b[39m, \u001b[39mFalse\u001b[39;00m)\n\u001b[1;32m    <a href='file:///home/daniel/anaconda3/envs/rl-baselines-zoo-cu113/lib/python3.8/site-packages/gym/envs/registration.py?line=114'>115</a>\u001b[0m ):\n",
      "File \u001b[0;32m~/anaconda3/envs/rl-baselines-zoo-cu113/lib/python3.8/site-packages/gym/envs/registration.py:76\u001b[0m, in \u001b[0;36mEnvSpec.make\u001b[0;34m(self, **kwargs)\u001b[0m\n\u001b[1;32m     <a href='file:///home/daniel/anaconda3/envs/rl-baselines-zoo-cu113/lib/python3.8/site-packages/gym/envs/registration.py?line=73'>74</a>\u001b[0m \u001b[39melse\u001b[39;00m:\n\u001b[1;32m     <a href='file:///home/daniel/anaconda3/envs/rl-baselines-zoo-cu113/lib/python3.8/site-packages/gym/envs/registration.py?line=74'>75</a>\u001b[0m     \u001b[39mcls\u001b[39m \u001b[39m=\u001b[39m load(\u001b[39mself\u001b[39m\u001b[39m.\u001b[39mentry_point)\n\u001b[0;32m---> <a href='file:///home/daniel/anaconda3/envs/rl-baselines-zoo-cu113/lib/python3.8/site-packages/gym/envs/registration.py?line=75'>76</a>\u001b[0m     env \u001b[39m=\u001b[39m \u001b[39mcls\u001b[39;49m(\u001b[39m*\u001b[39;49m\u001b[39m*\u001b[39;49m_kwargs)\n\u001b[1;32m     <a href='file:///home/daniel/anaconda3/envs/rl-baselines-zoo-cu113/lib/python3.8/site-packages/gym/envs/registration.py?line=77'>78</a>\u001b[0m \u001b[39m# Make the environment aware of which spec it came from.\u001b[39;00m\n\u001b[1;32m     <a href='file:///home/daniel/anaconda3/envs/rl-baselines-zoo-cu113/lib/python3.8/site-packages/gym/envs/registration.py?line=78'>79</a>\u001b[0m spec \u001b[39m=\u001b[39m copy\u001b[39m.\u001b[39mdeepcopy(\u001b[39mself\u001b[39m)\n",
      "File \u001b[0;32m~/Documents/github/mcx-lab/rl-baselines3-zoo/blind_walking/envs/gym_envs/a1_gym_env.py:14\u001b[0m, in \u001b[0;36mA1GymEnv.__init__\u001b[0;34m(self, action_limit, render, on_rack, **kwargs)\u001b[0m\n\u001b[1;32m     <a href='file:///home/daniel/Documents/github/mcx-lab/rl-baselines3-zoo/blind_walking/envs/gym_envs/a1_gym_env.py?line=12'>13</a>\u001b[0m \u001b[39mdef\u001b[39;00m \u001b[39m__init__\u001b[39m(\u001b[39mself\u001b[39m, action_limit\u001b[39m=\u001b[39m(\u001b[39m0.5\u001b[39m, \u001b[39m0.5\u001b[39m, \u001b[39m0.5\u001b[39m), render\u001b[39m=\u001b[39m\u001b[39mFalse\u001b[39;00m, on_rack\u001b[39m=\u001b[39m\u001b[39mFalse\u001b[39;00m, \u001b[39m*\u001b[39m\u001b[39m*\u001b[39mkwargs):\n\u001b[0;32m---> <a href='file:///home/daniel/Documents/github/mcx-lab/rl-baselines3-zoo/blind_walking/envs/gym_envs/a1_gym_env.py?line=13'>14</a>\u001b[0m     \u001b[39mself\u001b[39m\u001b[39m.\u001b[39m_env \u001b[39m=\u001b[39m env_builder\u001b[39m.\u001b[39;49mbuild_regular_env(\n\u001b[1;32m     <a href='file:///home/daniel/Documents/github/mcx-lab/rl-baselines3-zoo/blind_walking/envs/gym_envs/a1_gym_env.py?line=14'>15</a>\u001b[0m         a1\u001b[39m.\u001b[39;49mA1,\n\u001b[1;32m     <a href='file:///home/daniel/Documents/github/mcx-lab/rl-baselines3-zoo/blind_walking/envs/gym_envs/a1_gym_env.py?line=15'>16</a>\u001b[0m         motor_control_mode\u001b[39m=\u001b[39;49mrobot_config\u001b[39m.\u001b[39;49mMotorControlMode\u001b[39m.\u001b[39;49mPOSITION,\n\u001b[1;32m     <a href='file:///home/daniel/Documents/github/mcx-lab/rl-baselines3-zoo/blind_walking/envs/gym_envs/a1_gym_env.py?line=16'>17</a>\u001b[0m         enable_rendering\u001b[39m=\u001b[39;49mrender,\n\u001b[1;32m     <a href='file:///home/daniel/Documents/github/mcx-lab/rl-baselines3-zoo/blind_walking/envs/gym_envs/a1_gym_env.py?line=17'>18</a>\u001b[0m         action_limit\u001b[39m=\u001b[39;49maction_limit,\n\u001b[1;32m     <a href='file:///home/daniel/Documents/github/mcx-lab/rl-baselines3-zoo/blind_walking/envs/gym_envs/a1_gym_env.py?line=18'>19</a>\u001b[0m         on_rack\u001b[39m=\u001b[39;49mon_rack,\n\u001b[1;32m     <a href='file:///home/daniel/Documents/github/mcx-lab/rl-baselines3-zoo/blind_walking/envs/gym_envs/a1_gym_env.py?line=19'>20</a>\u001b[0m         \u001b[39m*\u001b[39;49m\u001b[39m*\u001b[39;49mkwargs,\n\u001b[1;32m     <a href='file:///home/daniel/Documents/github/mcx-lab/rl-baselines3-zoo/blind_walking/envs/gym_envs/a1_gym_env.py?line=20'>21</a>\u001b[0m     )\n\u001b[1;32m     <a href='file:///home/daniel/Documents/github/mcx-lab/rl-baselines3-zoo/blind_walking/envs/gym_envs/a1_gym_env.py?line=21'>22</a>\u001b[0m     \u001b[39mself\u001b[39m\u001b[39m.\u001b[39mobservation_space \u001b[39m=\u001b[39m \u001b[39mself\u001b[39m\u001b[39m.\u001b[39m_env\u001b[39m.\u001b[39mobservation_space\n\u001b[1;32m     <a href='file:///home/daniel/Documents/github/mcx-lab/rl-baselines3-zoo/blind_walking/envs/gym_envs/a1_gym_env.py?line=22'>23</a>\u001b[0m     \u001b[39mself\u001b[39m\u001b[39m.\u001b[39maction_space \u001b[39m=\u001b[39m \u001b[39mself\u001b[39m\u001b[39m.\u001b[39m_env\u001b[39m.\u001b[39maction_space\n",
      "File \u001b[0;32m~/Documents/github/mcx-lab/rl-baselines3-zoo/blind_walking/envs/env_builder.py:72\u001b[0m, in \u001b[0;36mbuild_regular_env\u001b[0;34m(robot_class, motor_control_mode, enable_rendering, on_rack, action_limit, wrap_trajectory_generator, robot_sensor_list, env_sensor_list, env_randomizer_list, env_modifier_list, task, obs_wrapper, **kwargs)\u001b[0m\n\u001b[1;32m     <a href='file:///home/daniel/Documents/github/mcx-lab/rl-baselines3-zoo/blind_walking/envs/env_builder.py?line=61'>62</a>\u001b[0m     robot_sensor_list \u001b[39m=\u001b[39m [\n\u001b[1;32m     <a href='file:///home/daniel/Documents/github/mcx-lab/rl-baselines3-zoo/blind_walking/envs/env_builder.py?line=62'>63</a>\u001b[0m         robot_sensors\u001b[39m.\u001b[39mBaseVelocitySensor(convert_to_local_frame\u001b[39m=\u001b[39m\u001b[39mTrue\u001b[39;00m, exclude_z\u001b[39m=\u001b[39m\u001b[39mTrue\u001b[39;00m),\n\u001b[1;32m     <a href='file:///home/daniel/Documents/github/mcx-lab/rl-baselines3-zoo/blind_walking/envs/env_builder.py?line=63'>64</a>\u001b[0m         robot_sensors\u001b[39m.\u001b[39mIMUSensor(channels\u001b[39m=\u001b[39m[\u001b[39m\"\u001b[39m\u001b[39mR\u001b[39m\u001b[39m\"\u001b[39m, \u001b[39m\"\u001b[39m\u001b[39mP\u001b[39m\u001b[39m\"\u001b[39m, \u001b[39m\"\u001b[39m\u001b[39mY\u001b[39m\u001b[39m\"\u001b[39m, \u001b[39m\"\u001b[39m\u001b[39mdR\u001b[39m\u001b[39m\"\u001b[39m, \u001b[39m\"\u001b[39m\u001b[39mdP\u001b[39m\u001b[39m\"\u001b[39m, \u001b[39m\"\u001b[39m\u001b[39mdY\u001b[39m\u001b[39m\"\u001b[39m]),\n\u001b[1;32m     <a href='file:///home/daniel/Documents/github/mcx-lab/rl-baselines3-zoo/blind_walking/envs/env_builder.py?line=64'>65</a>\u001b[0m         robot_sensors\u001b[39m.\u001b[39mMotorAngleSensor(num_motors\u001b[39m=\u001b[39ma1\u001b[39m.\u001b[39mNUM_MOTORS),\n\u001b[1;32m     <a href='file:///home/daniel/Documents/github/mcx-lab/rl-baselines3-zoo/blind_walking/envs/env_builder.py?line=65'>66</a>\u001b[0m         robot_sensors\u001b[39m.\u001b[39mMotorVelocitySensor(num_motors\u001b[39m=\u001b[39ma1\u001b[39m.\u001b[39mNUM_MOTORS),\n\u001b[1;32m     <a href='file:///home/daniel/Documents/github/mcx-lab/rl-baselines3-zoo/blind_walking/envs/env_builder.py?line=66'>67</a>\u001b[0m     ]\n\u001b[1;32m     <a href='file:///home/daniel/Documents/github/mcx-lab/rl-baselines3-zoo/blind_walking/envs/env_builder.py?line=67'>68</a>\u001b[0m \u001b[39mif\u001b[39;00m env_sensor_list \u001b[39mis\u001b[39;00m \u001b[39mNone\u001b[39;00m:\n\u001b[1;32m     <a href='file:///home/daniel/Documents/github/mcx-lab/rl-baselines3-zoo/blind_walking/envs/env_builder.py?line=68'>69</a>\u001b[0m     env_sensor_list \u001b[39m=\u001b[39m [\n\u001b[1;32m     <a href='file:///home/daniel/Documents/github/mcx-lab/rl-baselines3-zoo/blind_walking/envs/env_builder.py?line=69'>70</a>\u001b[0m         environment_sensors\u001b[39m.\u001b[39mLastActionSensor(num_actions\u001b[39m=\u001b[39ma1\u001b[39m.\u001b[39mNUM_MOTORS),\n\u001b[1;32m     <a href='file:///home/daniel/Documents/github/mcx-lab/rl-baselines3-zoo/blind_walking/envs/env_builder.py?line=70'>71</a>\u001b[0m         environment_sensors\u001b[39m.\u001b[39mForwardTargetPositionSensor(max_distance\u001b[39m=\u001b[39m\u001b[39m0.02\u001b[39m),\n\u001b[0;32m---> <a href='file:///home/daniel/Documents/github/mcx-lab/rl-baselines3-zoo/blind_walking/envs/env_builder.py?line=71'>72</a>\u001b[0m         cpg_sensors\u001b[39m.\u001b[39;49mReferenceGaitSensor(\u001b[39m*\u001b[39;49m\u001b[39m*\u001b[39;49mkwargs),\n\u001b[1;32m     <a href='file:///home/daniel/Documents/github/mcx-lab/rl-baselines3-zoo/blind_walking/envs/env_builder.py?line=72'>73</a>\u001b[0m     ]\n\u001b[1;32m     <a href='file:///home/daniel/Documents/github/mcx-lab/rl-baselines3-zoo/blind_walking/envs/env_builder.py?line=74'>75</a>\u001b[0m \u001b[39mif\u001b[39;00m env_randomizer_list \u001b[39mis\u001b[39;00m \u001b[39mNone\u001b[39;00m:\n\u001b[1;32m     <a href='file:///home/daniel/Documents/github/mcx-lab/rl-baselines3-zoo/blind_walking/envs/env_builder.py?line=75'>76</a>\u001b[0m     \u001b[39m# env_randomizer_list = [ControllableEnvRandomizerFromConfig(\"train_params\", step_sample_prob=0.004)]\u001b[39;00m\n\u001b[1;32m     <a href='file:///home/daniel/Documents/github/mcx-lab/rl-baselines3-zoo/blind_walking/envs/env_builder.py?line=76'>77</a>\u001b[0m     env_randomizer_list \u001b[39m=\u001b[39m []\n",
      "\u001b[0;31mTypeError\u001b[0m: __init__() missing 1 required positional argument: 'gait_name'"
     ]
    }
   ],
   "source": [
    "# Export butterworth filter coefficients and history\n",
    "import gym \n",
    "import numpy as np\n",
    "import utils.import_envs\n",
    "env = gym.make(\"A1GymEnv-v0\")\n",
    "env.reset()\n",
    "\n",
    "filter = env.robot._action_filter\n",
    "a = filter.a.T.copy()\n",
    "b = filter.b.T.copy()\n",
    "print(a.shape, b.shape)\n",
    "print(a)\n",
    "\n",
    "np.savetxt(params_dir / 'filter_a_coeff.csv', a, delimiter =',')\n",
    "np.savetxt(params_dir / 'filter_b_coeff.csv', b, delimiter =',')\n"
   ]
  }
 ],
 "metadata": {
  "interpreter": {
   "hash": "ee3bb4c681c16afaca5ce5daeb93e1cbe02bcdb573b5a82c4c5cf6b16d9005d5"
  },
  "kernelspec": {
   "display_name": "Python 3.8.12 ('rl-baselines-zoo-cu113')",
   "language": "python",
   "name": "python3"
  },
  "language_info": {
   "codemirror_mode": {
    "name": "ipython",
    "version": 3
   },
   "file_extension": ".py",
   "mimetype": "text/x-python",
   "name": "python",
   "nbconvert_exporter": "python",
   "pygments_lexer": "ipython3",
   "version": "3.8.12"
  },
  "orig_nbformat": 4
 },
 "nbformat": 4,
 "nbformat_minor": 2
}
