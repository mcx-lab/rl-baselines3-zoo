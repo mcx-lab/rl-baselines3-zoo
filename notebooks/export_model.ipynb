{
 "cells": [
  {
   "cell_type": "code",
   "execution_count": null,
   "metadata": {},
   "outputs": [],
   "source": [
    "from pathlib import Path\n",
    "\n",
    "project_dir = Path('.').absolute().parent\n",
    "model_dir = project_dir / 'export_logs' / 'ppo' / 'A1GymEnv-v0_2'"
   ]
  },
  {
   "cell_type": "code",
   "execution_count": null,
   "metadata": {},
   "outputs": [],
   "source": [
    "import torch.nn as nn\n",
    "from utils import ALGOS\n",
    "\n",
    "model_path = model_dir / \"A1GymEnv-v0.zip\"\n",
    "model = ALGOS[\"ppo\"].load(model_path)\n",
    "\n",
    "def extract_policy_layers(model):\n",
    "    mlp_extractor = model.policy.mlp_extractor.policy_net\n",
    "    action_net = model.policy.action_net\n",
    "\n",
    "    layers = []\n",
    "    for m in mlp_extractor.modules():\n",
    "        if not isinstance(m, nn.Sequential):\n",
    "            layers.append(m)\n",
    "    layers.append(action_net)\n",
    "\n",
    "    return nn.Sequential(*layers)\n",
    "\n",
    "policy_net = extract_policy_layers(model)\n",
    "policy_net.eval()"
   ]
  },
  {
   "cell_type": "code",
   "execution_count": null,
   "metadata": {},
   "outputs": [],
   "source": [
    "import torch\n",
    "import numpy as np\n",
    "\n",
    "# Export model weights as csv\n",
    "params_dir = model_dir / 'parameters'\n",
    "params_dir.mkdir(exist_ok=True, parents=True)\n",
    "\n",
    "def save_tensor_as_csv(path, t: torch.Tensor):\n",
    "    t_np = t.detach().cpu().numpy()\n",
    "    np.savetxt(path, t_np, delimiter = ',')\n",
    "\n",
    "for name, param in policy_net.named_parameters():\n",
    "    if len(param.size()) == 1:\n",
    "        param = torch.unsqueeze(param, axis=-1)\n",
    "    name = name.replace('.', '_')\n",
    "    print(name, param.size())\n",
    "    save_tensor_as_csv(params_dir / f'{name}.csv', param)"
   ]
  },
  {
   "cell_type": "code",
   "execution_count": null,
   "metadata": {},
   "outputs": [],
   "source": [
    "# Export normalizer parameters\n",
    "import pickle\n",
    "normalizer_path = model_dir / \"A1GymEnv-v0\" / \"vecnormalize.pkl\"\n",
    "with open(normalizer_path, \"rb\") as pkl:\n",
    "    normalizer = pickle.load(pkl)\n",
    "\n",
    "obs_mean = np.sqrt(normalizer.obs_rms.var + normalizer.epsilon)\n",
    "obs_std = normalizer.obs_rms.mean \n",
    "obs_mean = obs_mean.reshape(1,-1)\n",
    "obs_std = obs_std.reshape(1,-1)\n",
    "print(obs_mean.shape, obs_std.shape)\n",
    "\n",
    "np.savetxt(params_dir / 'obs_mean.csv', obs_mean, delimiter = ',')\n",
    "np.savetxt(params_dir / 'obs_std.csv', obs_mean, delimiter = ',')"
   ]
  },
  {
   "cell_type": "code",
   "execution_count": null,
   "metadata": {},
   "outputs": [],
   "source": [
    "# Export default pose and motor polarity\n",
    "from blind_walking.envs.env_wrappers import simple_openloop\n",
    "\n",
    "pose_offset = simple_openloop.LaikagoPoseOffsetGenerator()._pose.reshape(1,-1)\n",
    "np.savetxt(params_dir / 'pose_offset.csv', pose_offset, delimiter = ',')\n",
    "print(pose_offset)\n",
    "\n",
    "motor_polarity = np.array([1, -1, -1] * 4).reshape(1,-1)\n",
    "np.savetxt(params_dir / 'motor_signs.csv', motor_polarity, delimiter = ',')"
   ]
  },
  {
   "cell_type": "code",
   "execution_count": null,
   "metadata": {},
   "outputs": [],
   "source": [
    "# Export sample in-out pairs\n",
    "import json\n",
    "\n",
    "policy_net.eval()\n",
    "policy_net = policy_net.to(torch.device('cpu'))\n",
    "sample_output_dir = model_dir / 'sample_inp_oup'\n",
    "sample_output_dir.mkdir(exist_ok=True, parents=True)\n",
    "\n",
    "sample_inputs = {\n",
    "    'zeros': torch.zeros(1, 46),\n",
    "    'ones': torch.ones(1, 46)\n",
    "}\n",
    "inp_oup_names = {}\n",
    "for name, inp_value in sample_inputs.items():\n",
    "    inp_name = name + '_in.csv'\n",
    "    oup_name = name + '_out.csv'\n",
    "    inp_oup_names[inp_name] = oup_name\n",
    "    oup_value = policy_net(inp_value)\n",
    "    save_tensor_as_csv(sample_output_dir / inp_name, inp_value)\n",
    "    save_tensor_as_csv(sample_output_dir / oup_name, oup_value)\n",
    "\n",
    "with open(sample_output_dir / 'inp_oup_name_pairs.txt', 'w') as file:\n",
    "    for inp_name, oup_name in inp_oup_names.items():\n",
    "        line = ','.join([inp_name, oup_name]) + \"\\n\"\n",
    "        file.write(line)"
   ]
  },
  {
   "cell_type": "code",
   "execution_count": 3,
   "metadata": {},
   "outputs": [
    {
     "name": "stdout",
     "output_type": "stream",
     "text": [
      "argv[0]=\n",
      "0\n",
      "(12, 2)\n",
      "(12, 2)\n",
      "[ 0.   0.9 -1.8  0.   0.9 -1.8  0.   0.9 -1.8  0.   0.9 -1.8]\n"
     ]
    },
    {
     "name": "stderr",
     "output_type": "stream",
     "text": [
      "/home/daniel/anaconda3/envs/rl-baselines-zoo-cu113/lib/python3.8/site-packages/gym/logger.py:34: UserWarning: \u001b[33mWARN: Box bound precision lowered by casting to float32\u001b[0m\n",
      "  warnings.warn(colorize(\"%s: %s\" % (\"WARN\", msg % args), \"yellow\"))\n"
     ]
    }
   ],
   "source": [
    "# Export butterworth filter coefficients and history\n",
    "import gym \n",
    "import utils.import_envs\n",
    "env = gym.make(\"A1GymEnv-v0\")\n",
    "env.reset()\n",
    "\n",
    "print(env.env_step_counter)\n",
    "filter = env.robot._action_filter\n",
    "print(filter.a.shape)\n",
    "print(filter.b.shape)\n",
    "default_action = env.robot.GetMotorAngles()\n",
    "print(default_action)\n"
   ]
  },
  {
   "cell_type": "code",
   "execution_count": 2,
   "metadata": {},
   "outputs": [
    {
     "name": "stdout",
     "output_type": "stream",
     "text": [
      "[ 0.   0.9 -1.8  0.   0.9 -1.8  0.   0.9 -1.8  0.   0.9 -1.8]\n",
      "[[ 0. ]\n",
      " [ 0.9]\n",
      " [-1.8]\n",
      " [ 0. ]\n",
      " [ 0.9]\n",
      " [-1.8]\n",
      " [ 0. ]\n",
      " [ 0.9]\n",
      " [-1.8]\n",
      " [ 0. ]\n",
      " [ 0.9]\n",
      " [-1.8]]\n",
      "Raw action:  [ 0.44601613  0.30490421 -1.11204529 -0.3697387   0.86836436 -1.41128629\n",
      " -0.15483707  0.77482317 -1.3015657   0.4584184   0.99935891 -0.87943053]\n",
      "Filtered action:  [ 0.07145194  0.80466544 -1.68978941 -0.05923227  0.89493196 -1.73772793\n",
      " -0.02480495  0.87994663 -1.72015065  0.07343879  0.91591733 -1.65252445]\n",
      "Step i: Processed action [ 0.07145194  0.80466544 -1.68978941 -0.05923227  0.89493196 -1.73772793\n",
      " -0.02480495  0.87994663 -1.72015065  0.07343879  0.91591733 -1.65252445]\n",
      "Step i: Processed action [ 0.07145194  0.80466544 -1.68978941 -0.05923227  0.89493196 -1.73772793\n",
      " -0.02480495  0.87994663 -1.72015065  0.07343879  0.91591733 -1.65252445]\n",
      "Step i: Processed action [ 0.07145194  0.80466544 -1.68978941 -0.05923227  0.89493196 -1.73772793\n",
      " -0.02480495  0.87994663 -1.72015065  0.07343879  0.91591733 -1.65252445]\n",
      "Step i: Processed action [ 0.07145194  0.80466544 -1.68978941 -0.05923227  0.89493196 -1.73772793\n",
      " -0.02480495  0.87994663 -1.72015065  0.07343879  0.91591733 -1.65252445]\n",
      "Step i: Processed action [ 0.07145194  0.80466544 -1.68978941 -0.05923227  0.89493196 -1.73772793\n",
      " -0.02480495  0.87994663 -1.72015065  0.07343879  0.91591733 -1.65252445]\n",
      "Step i: Processed action [ 0.07145194  0.80466544 -1.68978941 -0.05923227  0.89493196 -1.73772793\n",
      " -0.02480495  0.87994663 -1.72015065  0.07343879  0.91591733 -1.65252445]\n",
      "Step i: Processed action [ 0.07145194  0.80466544 -1.68978941 -0.05923227  0.89493196 -1.73772793\n",
      " -0.02480495  0.87994663 -1.72015065  0.07343879  0.91591733 -1.65252445]\n",
      "Step i: Processed action [ 0.07145194  0.80466544 -1.68978941 -0.05923227  0.89493196 -1.73772793\n",
      " -0.02480495  0.87994663 -1.72015065  0.07343879  0.91591733 -1.65252445]\n",
      "Step i: Processed action [ 0.07145194  0.80466544 -1.68978941 -0.05923227  0.89493196 -1.73772793\n",
      " -0.02480495  0.87994663 -1.72015065  0.07343879  0.91591733 -1.65252445]\n",
      "Step i: Processed action [ 0.07145194  0.80466544 -1.68978941 -0.05923227  0.89493196 -1.73772793\n",
      " -0.02480495  0.87994663 -1.72015065  0.07343879  0.91591733 -1.65252445]\n",
      "Step i: Processed action [ 0.07145194  0.80466544 -1.68978941 -0.05923227  0.89493196 -1.73772793\n",
      " -0.02480495  0.87994663 -1.72015065  0.07343879  0.91591733 -1.65252445]\n",
      "Step i: Processed action [ 0.07145194  0.80466544 -1.68978941 -0.05923227  0.89493196 -1.73772793\n",
      " -0.02480495  0.87994663 -1.72015065  0.07343879  0.91591733 -1.65252445]\n",
      "Step i: Processed action [ 0.07145194  0.80466544 -1.68978941 -0.05923227  0.89493196 -1.73772793\n",
      " -0.02480495  0.87994663 -1.72015065  0.07343879  0.91591733 -1.65252445]\n",
      "Step i: Processed action [ 0.07145194  0.80466544 -1.68978941 -0.05923227  0.89493196 -1.73772793\n",
      " -0.02480495  0.87994663 -1.72015065  0.07343879  0.91591733 -1.65252445]\n",
      "Step i: Processed action [ 0.07145194  0.80466544 -1.68978941 -0.05923227  0.89493196 -1.73772793\n",
      " -0.02480495  0.87994663 -1.72015065  0.07343879  0.91591733 -1.65252445]\n",
      "Step i: Processed action [ 0.07145194  0.80466544 -1.68978941 -0.05923227  0.89493196 -1.73772793\n",
      " -0.02480495  0.87994663 -1.72015065  0.07343879  0.91591733 -1.65252445]\n",
      "Step i: Processed action [ 0.07145194  0.80466544 -1.68978941 -0.05923227  0.89493196 -1.73772793\n",
      " -0.02480495  0.87994663 -1.72015065  0.07343879  0.91591733 -1.65252445]\n",
      "Step i: Processed action [ 0.07145194  0.80466544 -1.68978941 -0.05923227  0.89493196 -1.73772793\n",
      " -0.02480495  0.87994663 -1.72015065  0.07343879  0.91591733 -1.65252445]\n",
      "Step i: Processed action [ 0.07145194  0.80466544 -1.68978941 -0.05923227  0.89493196 -1.73772793\n",
      " -0.02480495  0.87994663 -1.72015065  0.07343879  0.91591733 -1.65252445]\n",
      "Step i: Processed action [ 0.07145194  0.80466544 -1.68978941 -0.05923227  0.89493196 -1.73772793\n",
      " -0.02480495  0.87994663 -1.72015065  0.07343879  0.91591733 -1.65252445]\n",
      "Step i: Processed action [ 0.07145194  0.80466544 -1.68978941 -0.05923227  0.89493196 -1.73772793\n",
      " -0.02480495  0.87994663 -1.72015065  0.07343879  0.91591733 -1.65252445]\n",
      "Step i: Processed action [ 0.07145194  0.80466544 -1.68978941 -0.05923227  0.89493196 -1.73772793\n",
      " -0.02480495  0.87994663 -1.72015065  0.07343879  0.91591733 -1.65252445]\n",
      "Step i: Processed action [ 0.07145194  0.80466544 -1.68978941 -0.05923227  0.89493196 -1.73772793\n",
      " -0.02480495  0.87994663 -1.72015065  0.07343879  0.91591733 -1.65252445]\n",
      "Step i: Processed action [ 0.07145194  0.80466544 -1.68978941 -0.05923227  0.89493196 -1.73772793\n",
      " -0.02480495  0.87994663 -1.72015065  0.07343879  0.91591733 -1.65252445]\n",
      "Step i: Processed action [ 0.07145194  0.80466544 -1.68978941 -0.05923227  0.89493196 -1.73772793\n",
      " -0.02480495  0.87994663 -1.72015065  0.07343879  0.91591733 -1.65252445]\n",
      "Step i: Processed action [ 0.07145194  0.80466544 -1.68978941 -0.05923227  0.89493196 -1.73772793\n",
      " -0.02480495  0.87994663 -1.72015065  0.07343879  0.91591733 -1.65252445]\n",
      "Step i: Processed action [ 0.07145194  0.80466544 -1.68978941 -0.05923227  0.89493196 -1.73772793\n",
      " -0.02480495  0.87994663 -1.72015065  0.07343879  0.91591733 -1.65252445]\n",
      "Step i: Processed action [ 0.07145194  0.80466544 -1.68978941 -0.05923227  0.89493196 -1.73772793\n",
      " -0.02480495  0.87994663 -1.72015065  0.07343879  0.91591733 -1.65252445]\n",
      "Step i: Processed action [ 0.07145194  0.80466544 -1.68978941 -0.05923227  0.89493196 -1.73772793\n",
      " -0.02480495  0.87994663 -1.72015065  0.07343879  0.91591733 -1.65252445]\n",
      "Step i: Processed action [ 0.07145194  0.80466544 -1.68978941 -0.05923227  0.89493196 -1.73772793\n",
      " -0.02480495  0.87994663 -1.72015065  0.07343879  0.91591733 -1.65252445]\n",
      "(12, 2)\n",
      "(12, 2)\n",
      "1 (12, 1)\n",
      "1 (12, 1)\n"
     ]
    }
   ],
   "source": [
    "for i in range(1):\n",
    "    env.step(env.action_space.sample())\n",
    "print(filter.a.shape)\n",
    "print(filter.b.shape)\n",
    "print(len(filter.yhist), filter.yhist[0].shape)\n",
    "print(len(filter.xhist), filter.xhist[0].shape)"
   ]
  }
 ],
 "metadata": {
  "interpreter": {
   "hash": "ee3bb4c681c16afaca5ce5daeb93e1cbe02bcdb573b5a82c4c5cf6b16d9005d5"
  },
  "kernelspec": {
   "display_name": "Python 3.8.12 ('rl-baselines-zoo-cu113')",
   "language": "python",
   "name": "python3"
  },
  "language_info": {
   "codemirror_mode": {
    "name": "ipython",
    "version": 3
   },
   "file_extension": ".py",
   "mimetype": "text/x-python",
   "name": "python",
   "nbconvert_exporter": "python",
   "pygments_lexer": "ipython3",
   "version": "3.8.12"
  },
  "orig_nbformat": 4
 },
 "nbformat": 4,
 "nbformat_minor": 2
}
