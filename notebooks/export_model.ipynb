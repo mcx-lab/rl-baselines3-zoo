{
 "cells": [
  {
   "cell_type": "code",
   "execution_count": 50,
   "metadata": {},
   "outputs": [],
   "source": [
    "from pathlib import Path\n",
    "\n",
    "project_dir = Path('.').absolute().parent\n",
    "model_dir = project_dir / 'logs/minimal-locomotion' / 'ppo' / 'A1GymEnv-v0_4'"
   ]
  },
  {
   "cell_type": "code",
   "execution_count": 51,
   "metadata": {},
   "outputs": [
    {
     "data": {
      "text/plain": [
       "Sequential(\n",
       "  (0): Linear(in_features=56, out_features=256, bias=True)\n",
       "  (1): ReLU()\n",
       "  (2): Linear(in_features=256, out_features=256, bias=True)\n",
       "  (3): ReLU()\n",
       "  (4): Linear(in_features=256, out_features=12, bias=True)\n",
       ")"
      ]
     },
     "execution_count": 51,
     "metadata": {},
     "output_type": "execute_result"
    }
   ],
   "source": [
    "import torch.nn as nn\n",
    "from utils import ALGOS\n",
    "\n",
    "model_path = model_dir / \"A1GymEnv-v0.zip\"\n",
    "model = ALGOS[\"ppo\"].load(model_path)\n",
    "\n",
    "def extract_policy_layers(model):\n",
    "    mlp_extractor = model.policy.mlp_extractor.policy_net\n",
    "    action_net = model.policy.action_net\n",
    "\n",
    "    layers = []\n",
    "    for m in mlp_extractor.modules():\n",
    "        if not isinstance(m, nn.Sequential):\n",
    "            layers.append(m)\n",
    "    layers.append(action_net)\n",
    "\n",
    "    return nn.Sequential(*layers)\n",
    "\n",
    "policy_net = extract_policy_layers(model)\n",
    "policy_net.eval()"
   ]
  },
  {
   "cell_type": "code",
   "execution_count": 52,
   "metadata": {},
   "outputs": [
    {
     "name": "stdout",
     "output_type": "stream",
     "text": [
      "0_weight torch.Size([256, 56])\n",
      "0_bias torch.Size([256, 1])\n",
      "2_weight torch.Size([256, 256])\n",
      "2_bias torch.Size([256, 1])\n",
      "4_weight torch.Size([12, 256])\n",
      "4_bias torch.Size([12, 1])\n"
     ]
    }
   ],
   "source": [
    "import torch\n",
    "import numpy as np\n",
    "\n",
    "# Export model weights as csv\n",
    "params_dir = model_dir / 'parameters'\n",
    "params_dir.mkdir(exist_ok=True, parents=True)\n",
    "\n",
    "def save_tensor_as_csv(path, t: torch.Tensor):\n",
    "    t_np = t.detach().cpu().numpy()\n",
    "    np.savetxt(path, t_np, delimiter = ',')\n",
    "\n",
    "for name, param in policy_net.named_parameters():\n",
    "    if len(param.size()) == 1:\n",
    "        param = torch.unsqueeze(param, axis=-1)\n",
    "    name = name.replace('.', '_')\n",
    "    print(name, param.size())\n",
    "    save_tensor_as_csv(params_dir / f'{name}.csv', param)"
   ]
  },
  {
   "cell_type": "code",
   "execution_count": 53,
   "metadata": {},
   "outputs": [
    {
     "name": "stdout",
     "output_type": "stream",
     "text": [
      "(1, 56) (1, 56)\n"
     ]
    }
   ],
   "source": [
    "# Export normalizer parameters\n",
    "import pickle\n",
    "normalizer_path = model_dir / \"A1GymEnv-v0\" / \"vecnormalize.pkl\"\n",
    "with open(normalizer_path, \"rb\") as pkl:\n",
    "    normalizer = pickle.load(pkl)\n",
    "\n",
    "obs_mean = np.sqrt(normalizer.obs_rms.var + normalizer.epsilon)\n",
    "obs_std = normalizer.obs_rms.mean \n",
    "obs_mean = obs_mean.reshape(1,-1)\n",
    "obs_std = obs_std.reshape(1,-1)\n",
    "print(obs_mean.shape, obs_std.shape)\n",
    "\n",
    "np.savetxt(params_dir / 'obs_mean.csv', obs_mean, delimiter = ',')\n",
    "np.savetxt(params_dir / 'obs_std.csv', obs_mean, delimiter = ',')"
   ]
  },
  {
   "cell_type": "code",
   "execution_count": 54,
   "metadata": {},
   "outputs": [
    {
     "name": "stdout",
     "output_type": "stream",
     "text": [
      "[[ 0.    0.67 -1.25  0.    0.67 -1.25  0.    0.67 -1.25  0.    0.67 -1.25]]\n"
     ]
    }
   ],
   "source": [
    "# Export default pose and motor polarity\n",
    "from blind_walking.envs.env_wrappers import simple_openloop\n",
    "\n",
    "pose_offset = simple_openloop.LaikagoPoseOffsetGenerator()._pose.reshape(1,-1)\n",
    "np.savetxt(params_dir / 'pose_offset.csv', pose_offset, delimiter = ',')\n",
    "print(pose_offset)\n",
    "\n",
    "motor_polarity = np.array([1, -1, -1] * 4).reshape(1,-1)\n",
    "np.savetxt(params_dir / 'motor_signs.csv', motor_polarity, delimiter = ',')"
   ]
  },
  {
   "cell_type": "code",
   "execution_count": 55,
   "metadata": {},
   "outputs": [],
   "source": [
    "# Export nn observations and actions\n",
    "nn_obs = np.load(str(model_dir / 'stats' / 'nn_observations.npy'))\n",
    "nn_act = np.load(str(model_dir / 'stats' / 'nn_actions.npy'))\n",
    "nn_obs = np.squeeze(nn_obs)\n",
    "nn_act = np.squeeze(nn_act)\n",
    "np.savetxt(str(params_dir / 'nn_observations.csv'), nn_obs,  delimiter = ',')\n",
    "np.savetxt(str(params_dir / 'nn_actions.csv'), nn_act, delimiter = ',')"
   ]
  },
  {
   "cell_type": "code",
   "execution_count": 56,
   "metadata": {},
   "outputs": [],
   "source": [
    "# Export motion capture\n",
    "motor_position = np.load(str(model_dir / 'stats' / 'motor_position.npy'))\n",
    "motor_position = np.squeeze(motor_position)\n",
    "np.savetxt(str(params_dir / 'motor_position.csv'), motor_position,  delimiter = ',')\n",
    "\n",
    "motor_velocity = np.load(str(model_dir / 'stats' / 'motor_velocity.npy'))\n",
    "motor_velocity = np.squeeze(motor_velocity)\n",
    "np.savetxt(str(params_dir / 'motor_velocity.csv'), motor_velocity,  delimiter = ',')\n",
    "\n",
    "base_vel = np.load(str(model_dir / 'stats' / 'base_vel.npy'))\n",
    "base_vel = np.squeeze(base_vel)\n",
    "np.savetxt(str(params_dir / 'base_vel.csv'), base_vel,  delimiter = ',')\n",
    "\n",
    "base_rpy = np.load(str(model_dir / 'stats' / 'base_rpy.npy'))\n",
    "base_rpy = np.squeeze(base_rpy)\n",
    "np.savetxt(str(params_dir / 'base_rpy.csv'), base_rpy,  delimiter = ',')\n",
    "\n",
    "base_rpy_rate = np.load(str(model_dir / 'stats' / 'base_rpy_rate.npy'))\n",
    "base_rpy_rate = np.squeeze(base_rpy_rate)\n",
    "np.savetxt(str(params_dir / 'base_rpy_rate.csv'), base_rpy_rate,  delimiter = ',')\n",
    "\n",
    "#reference_foot_contact = np.load(str(model_dir / 'stats' / 'reference_foot_contact.npy'))\n",
    "#reference_foot_contact = np.squeeze(reference_foot_contact)\n",
    "#np.savetxt(str(params_dir / 'reference_foot_contact.csv'), reference_foot_contact, delimiter=',')"
   ]
  },
  {
   "cell_type": "code",
   "execution_count": 57,
   "metadata": {},
   "outputs": [],
   "source": [
    "# Export sample in-out pairs\n",
    "import json\n",
    "\n",
    "input_dim = 56\n",
    "policy_net.eval()\n",
    "policy_net = policy_net.to(torch.device('cpu'))\n",
    "sample_output_dir = model_dir / 'sample_inp_oup'\n",
    "sample_output_dir.mkdir(exist_ok=True, parents=True)\n",
    "\n",
    "sample_inputs = {\n",
    "    'zeros': torch.zeros(1, input_dim),\n",
    "    'ones': torch.ones(1, input_dim)\n",
    "}\n",
    "inp_oup_names = {}\n",
    "for name, inp_value in sample_inputs.items():\n",
    "    inp_name = name + '_in.csv'\n",
    "    oup_name = name + '_out.csv'\n",
    "    inp_oup_names[inp_name] = oup_name\n",
    "    oup_value = policy_net(inp_value)\n",
    "    save_tensor_as_csv(sample_output_dir / inp_name, inp_value)\n",
    "    save_tensor_as_csv(sample_output_dir / oup_name, oup_value)\n",
    "\n",
    "with open(sample_output_dir / 'inp_oup_name_pairs.txt', 'w') as file:\n",
    "    for inp_name, oup_name in inp_oup_names.items():\n",
    "        line = ','.join([inp_name, oup_name]) + \"\\n\"\n",
    "        file.write(line)"
   ]
  },
  {
   "cell_type": "code",
   "execution_count": 61,
   "metadata": {},
   "outputs": [
    {
     "name": "stdout",
     "output_type": "stream",
     "text": [
      "Init CPG gait=trot, duty_factor=0.5, period=0.6666666666666666\n",
      "argv[0]=\n",
      "(2, 12) (2, 12)\n",
      "[[ 1.         1.         1.         1.         1.         1.\n",
      "   1.         1.         1.         1.         1.         1.       ]\n",
      " [-0.6795993 -0.6795993 -0.6795993 -0.6795993 -0.6795993 -0.6795993\n",
      "  -0.6795993 -0.6795993 -0.6795993 -0.6795993 -0.6795993 -0.6795993]]\n",
      "[[ 0.  -0.9  1.8  0.  -0.9  1.8  0.  -0.9  1.8  0.  -0.9  1.8]]\n"
     ]
    },
    {
     "name": "stderr",
     "output_type": "stream",
     "text": [
      "/home/daniel/anaconda3/envs/rl-baselines-zoo-cu113/lib/python3.8/site-packages/gym/logger.py:34: UserWarning: \u001b[33mWARN: Box bound precision lowered by casting to float32\u001b[0m\n",
      "  warnings.warn(colorize(\"%s: %s\" % (\"WARN\", msg % args), \"yellow\"))\n"
     ]
    }
   ],
   "source": [
    "# Export butterworth filter coefficients and history\n",
    "# Export initial motor angles\n",
    "import gym \n",
    "import numpy as np\n",
    "import utils.import_envs\n",
    "env = gym.make(\"A1GymEnv-v0\", gait_name = \"trot\")\n",
    "env.reset()\n",
    "\n",
    "filter = env.robot._action_filter\n",
    "a = filter.a.T.copy()\n",
    "b = filter.b.T.copy()\n",
    "print(a.shape, b.shape)\n",
    "print(a)\n",
    "\n",
    "np.savetxt(params_dir / 'filter_a_coeff.csv', a, delimiter =',')\n",
    "np.savetxt(params_dir / 'filter_b_coeff.csv', b, delimiter =',')\n",
    "\n",
    "initial_motor_pos = env.robot.GetMotorAngles() * motor_polarity\n",
    "print(initial_motor_pos)\n",
    "np.savetxt(params_dir / 'final_motor_position.csv', initial_motor_pos, delimiter=',')\n"
   ]
  },
  {
   "cell_type": "code",
   "execution_count": null,
   "metadata": {},
   "outputs": [],
   "source": []
  }
 ],
 "metadata": {
  "interpreter": {
   "hash": "ee3bb4c681c16afaca5ce5daeb93e1cbe02bcdb573b5a82c4c5cf6b16d9005d5"
  },
  "kernelspec": {
   "display_name": "Python 3.8.12 ('rl-baselines-zoo-cu113')",
   "language": "python",
   "name": "python3"
  },
  "language_info": {
   "codemirror_mode": {
    "name": "ipython",
    "version": 3
   },
   "file_extension": ".py",
   "mimetype": "text/x-python",
   "name": "python",
   "nbconvert_exporter": "python",
   "pygments_lexer": "ipython3",
   "version": "3.8.12"
  },
  "orig_nbformat": 4
 },
 "nbformat": 4,
 "nbformat_minor": 2
}
