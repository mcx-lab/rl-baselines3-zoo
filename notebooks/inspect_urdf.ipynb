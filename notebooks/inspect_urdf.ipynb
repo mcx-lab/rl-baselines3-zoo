{
 "cells": [
  {
   "cell_type": "code",
   "execution_count": 1,
   "metadata": {},
   "outputs": [],
   "source": [
    "import pathlib \n",
    "from pybullet_data import getDataPath\n",
    "\n",
    "project_dir = pathlib.Path('.').absolute().parent\n",
    "\n",
    "a1_wheel_file = project_dir / 'data' / 'a1_wheels' / 'a1_wheels.urdf'\n",
    "a1_orig_file = project_dir / 'data' / 'a1_wheels' / 'a1_original.urdf'\n",
    "a1_default_file = pathlib.Path(getDataPath()) / 'a1' / 'a1.urdf'\n",
    "plane_urdf_file = project_dir / 'data' /'terrain' / 'plane.urdf'\n",
    "\n",
    "a1_wheel_file"
   ]
  },
  {
   "cell_type": "code",
   "execution_count": 2,
   "metadata": {},
   "outputs": [
    {
     "name": "stdout",
     "output_type": "stream",
     "text": [
      "argv[0]=\n",
      "argv[0]=\n",
      "argv[0]=\n"
     ]
    },
    {
     "name": "stderr",
     "output_type": "stream",
     "text": [
      "pybullet build time: Jan 19 2022 23:07:37\n"
     ]
    }
   ],
   "source": [
    "import pybullet\n",
    "from pybullet_utils import bullet_client\n",
    "\n",
    "def build_joint_id_to_joint_info_dict(pybullet_client, quadruped):\n",
    "    num_joints = pybullet_client.getNumJoints(quadruped)\n",
    "    joint_id_to_info = {}\n",
    "    for i in range(num_joints):\n",
    "        joint_info = pybullet_client.getJointInfo(quadruped, i)\n",
    "        joint_id_to_info[i] = joint_info\n",
    "    return joint_id_to_info \n",
    "\n",
    "def get_urdf_info(urdf_file):\n",
    "    p = bullet_client.BulletClient(pybullet.DIRECT)\n",
    "    p.setGravity(0,0,-9.8)\n",
    "    p.setTimeStep(1./500)\n",
    "    urdfFlags = p.URDF_USE_SELF_COLLISION\n",
    "\n",
    "    plane = p.loadURDF(str(plane_urdf_file))\n",
    "\n",
    "    quadruped = p.loadURDF(\n",
    "        str(urdf_file),\n",
    "        [0,0,0.48],\n",
    "        [0,0,0,1],\n",
    "        flags = urdfFlags\n",
    "    )\n",
    "\n",
    "    return build_joint_id_to_joint_info_dict(p, quadruped)\n",
    "\n",
    "a1_wheel_info = get_urdf_info(a1_wheel_file)\n",
    "a1_orig_info = get_urdf_info(a1_orig_file)\n",
    "a1_default_info = get_urdf_info(a1_default_file)"
   ]
  },
  {
   "cell_type": "code",
   "execution_count": 5,
   "metadata": {},
   "outputs": [
    {
     "data": {
      "text/plain": [
       "{'values_changed': {'root[5][1]': {'new_value': b'FR_wheel_joint',\n",
       "   'old_value': b'FR_toe_fixed'},\n",
       "  'root[5][2]': {'new_value': 0, 'old_value': 4},\n",
       "  'root[5][3]': {'new_value': 10, 'old_value': -1},\n",
       "  'root[5][4]': {'new_value': 9, 'old_value': -1},\n",
       "  'root[5][5]': {'new_value': 1, 'old_value': 0},\n",
       "  'root[5][12]': {'new_value': b'FR_wheel', 'old_value': b'FR_toe'},\n",
       "  'root[5][13][2]': {'new_value': 1.0, 'old_value': 0.0},\n",
       "  'root[5][15][0]': {'new_value': -0.7070727237014776, 'old_value': 0.0},\n",
       "  'root[5][15][3]': {'new_value': 0.7071408370313328, 'old_value': 1.0},\n",
       "  'root[6][3]': {'new_value': 11, 'old_value': 10},\n",
       "  'root[6][4]': {'new_value': 10, 'old_value': 9},\n",
       "  'root[8][3]': {'new_value': 12, 'old_value': 11},\n",
       "  'root[8][4]': {'new_value': 11, 'old_value': 10},\n",
       "  'root[9][3]': {'new_value': 13, 'old_value': 12},\n",
       "  'root[9][4]': {'new_value': 12, 'old_value': 11},\n",
       "  'root[10][1]': {'new_value': b'FL_wheel_joint',\n",
       "   'old_value': b'FL_toe_fixed'},\n",
       "  'root[10][2]': {'new_value': 0, 'old_value': 4},\n",
       "  'root[10][3]': {'new_value': 14, 'old_value': -1},\n",
       "  'root[10][4]': {'new_value': 13, 'old_value': -1},\n",
       "  'root[10][5]': {'new_value': 1, 'old_value': 0},\n",
       "  'root[10][12]': {'new_value': b'FL_wheel', 'old_value': b'FL_toe'},\n",
       "  'root[10][13][2]': {'new_value': 1.0, 'old_value': 0.0},\n",
       "  'root[10][15][0]': {'new_value': 0.7070727237014776, 'old_value': 0.0},\n",
       "  'root[10][15][3]': {'new_value': 0.7071408370313328, 'old_value': 1.0},\n",
       "  'root[11][3]': {'new_value': 15, 'old_value': 13},\n",
       "  'root[11][4]': {'new_value': 14, 'old_value': 12},\n",
       "  'root[13][3]': {'new_value': 16, 'old_value': 14},\n",
       "  'root[13][4]': {'new_value': 15, 'old_value': 13},\n",
       "  'root[14][3]': {'new_value': 17, 'old_value': 15},\n",
       "  'root[14][4]': {'new_value': 16, 'old_value': 14},\n",
       "  'root[15][1]': {'new_value': b'RR_wheel_joint',\n",
       "   'old_value': b'RR_toe_fixed'},\n",
       "  'root[15][2]': {'new_value': 0, 'old_value': 4},\n",
       "  'root[15][3]': {'new_value': 18, 'old_value': -1},\n",
       "  'root[15][4]': {'new_value': 17, 'old_value': -1},\n",
       "  'root[15][5]': {'new_value': 1, 'old_value': 0},\n",
       "  'root[15][12]': {'new_value': b'RR_wheel', 'old_value': b'RR_toe'},\n",
       "  'root[15][13][2]': {'new_value': 1.0, 'old_value': 0.0},\n",
       "  'root[15][15][0]': {'new_value': -0.7070727237014776, 'old_value': 0.0},\n",
       "  'root[15][15][3]': {'new_value': 0.7071408370313328, 'old_value': 1.0},\n",
       "  'root[16][3]': {'new_value': 19, 'old_value': 16},\n",
       "  'root[16][4]': {'new_value': 18, 'old_value': 15},\n",
       "  'root[18][3]': {'new_value': 20, 'old_value': 17},\n",
       "  'root[18][4]': {'new_value': 19, 'old_value': 16},\n",
       "  'root[19][3]': {'new_value': 21, 'old_value': 18},\n",
       "  'root[19][4]': {'new_value': 20, 'old_value': 17},\n",
       "  'root[20][1]': {'new_value': b'RL_wheel_joint',\n",
       "   'old_value': b'RL_toe_fixed'},\n",
       "  'root[20][2]': {'new_value': 0, 'old_value': 4},\n",
       "  'root[20][3]': {'new_value': 22, 'old_value': -1},\n",
       "  'root[20][4]': {'new_value': 21, 'old_value': -1},\n",
       "  'root[20][5]': {'new_value': 1, 'old_value': 0},\n",
       "  'root[20][12]': {'new_value': b'RL_wheel', 'old_value': b'RL_toe'},\n",
       "  'root[20][13][2]': {'new_value': 1.0, 'old_value': 0.0},\n",
       "  'root[20][15][0]': {'new_value': 0.7070727237014776, 'old_value': 0.0},\n",
       "  'root[20][15][3]': {'new_value': 0.7071408370313328, 'old_value': 1.0}}}"
      ]
     },
     "execution_count": 5,
     "metadata": {},
     "output_type": "execute_result"
    }
   ],
   "source": [
    "from deepdiff import DeepDiff\n",
    "DeepDiff(a1_orig_info, a1_default_info)\n",
    "DeepDiff(a1_orig_info, a1_wheel_info)"
   ]
  }
 ],
 "metadata": {
  "interpreter": {
   "hash": "f1ddfa9b4e3b5aa858eb2b54b0a5905b29f41b027dbf295043c85ab3baf017d9"
  },
  "kernelspec": {
   "display_name": "Python 3.8.12 ('rl-baselines3-zoo')",
   "language": "python",
   "name": "python3"
  },
  "language_info": {
   "codemirror_mode": {
    "name": "ipython",
    "version": 3
   },
   "file_extension": ".py",
   "mimetype": "text/x-python",
   "name": "python",
   "nbconvert_exporter": "python",
   "pygments_lexer": "ipython3",
   "version": "3.8.12"
  },
  "orig_nbformat": 4
 },
 "nbformat": 4,
 "nbformat_minor": 2
}
