{
 "cells": [
  {
   "cell_type": "code",
   "execution_count": 19,
   "metadata": {},
   "outputs": [
    {
     "data": {
      "text/plain": [
       "PosixPath('/home/daniel/Documents/github/mcx-lab/rl-baselines3-zoo')"
      ]
     },
     "execution_count": 19,
     "metadata": {},
     "output_type": "execute_result"
    }
   ],
   "source": [
    "from pathlib import Path\n",
    "\n",
    "project_dir = Path('.').absolute().parent\n",
    "project_dir"
   ]
  },
  {
   "cell_type": "code",
   "execution_count": 20,
   "metadata": {},
   "outputs": [
    {
     "name": "stdout",
     "output_type": "stream",
     "text": [
      "argv[0]=\n",
      "[<blind_walking.envs.sensors.robot_sensors.BaseVelocitySensor object at 0x7f8b3cfaac70>, <blind_walking.envs.sensors.robot_sensors.IMUSensor object at 0x7f8b3a1db430>, <blind_walking.envs.sensors.robot_sensors.MotorAngleSensor object at 0x7f8b3a212220>, <blind_walking.envs.sensors.robot_sensors.MotorVelocitySensor object at 0x7f8b3a212250>, <blind_walking.envs.sensors.environment_sensors.LastActionSensor object at 0x7f8b3a212df0>, <blind_walking.envs.sensors.environment_sensors.ForwardTargetPositionSensor object at 0x7f8b3a212c10>, <blind_walking.envs.sensors.cpg_sensors.ReferenceGaitSensor object at 0x7f8b3a212d60>]\n",
      "['FR_toe_fixed', 'FL_toe_fixed', 'RR_toe_fixed', 'RL_toe_fixed']\n"
     ]
    },
    {
     "name": "stderr",
     "output_type": "stream",
     "text": [
      "/home/daniel/anaconda3/envs/rl-baselines-zoo-cu113/lib/python3.8/site-packages/gym/logger.py:34: UserWarning: \u001b[33mWARN: Box bound precision lowered by casting to float32\u001b[0m\n",
      "  warnings.warn(colorize(\"%s: %s\" % (\"WARN\", msg % args), \"yellow\"))\n"
     ]
    }
   ],
   "source": [
    "import gym\n",
    "import utils.import_envs\n",
    "\n",
    "env = gym.make('A1GymEnv-v0')\n",
    "env.observation_space.shape\n",
    "print(env.all_sensors())\n",
    "foot_names = env.robot.GetFootNames()\n",
    "print(foot_names)"
   ]
  },
  {
   "cell_type": "markdown",
   "metadata": {},
   "source": [
    "# Inspect logged inputs / outputs\n",
    "\n",
    "Logs generated with `scripts/enjoy_with_logging.py`"
   ]
  },
  {
   "cell_type": "code",
   "execution_count": 21,
   "metadata": {},
   "outputs": [],
   "source": [
    "import numpy as np\n",
    "import pickle \n",
    "\n",
    "def load_robot_states(stats_dir):\n",
    "    motor_position = np.load(stats_dir / 'motor_position.npy')\n",
    "    print(motor_position.shape)\n",
    "    motor_velocity = np.load(stats_dir / 'motor_velocity.npy')\n",
    "    feet_air_time = np.load(stats_dir / 'feet_air_time.npy')\n",
    "    print(feet_air_time.shape)\n",
    "    nn_observations = np.load(stats_dir / 'nn_observations.npy')\n",
    "    print(nn_observations.shape)\n",
    "    nn_actions = np.load(stats_dir / 'nn_actions.npy')\n",
    "    print(nn_actions.shape)\n",
    "    time = np.load(stats_dir / 'time.npy')\n",
    "    \n",
    "    return time, motor_position, motor_velocity, feet_air_time, nn_observations, nn_actions\n",
    "\n",
    "def load_normalizer(model_dir):\n",
    "    with open(model_dir / 'A1GymEnv-v0' / 'vecnormalize.pkl', 'rb') as file:\n",
    "        normalizer = pickle.load(file)\n",
    "    return normalizer"
   ]
  },
  {
   "cell_type": "code",
   "execution_count": 28,
   "metadata": {},
   "outputs": [
    {
     "ename": "FileNotFoundError",
     "evalue": "[Errno 2] No such file or directory: '/home/daniel/Documents/github/mcx-lab/rl-baselines3-zoo/logs/ppo/A1GymEnv-v0_13/experiments/train_walk/motor_position.npy'",
     "output_type": "error",
     "traceback": [
      "\u001b[0;31m---------------------------------------------------------------------------\u001b[0m",
      "\u001b[0;31mFileNotFoundError\u001b[0m                         Traceback (most recent call last)",
      "\u001b[1;32m/home/daniel/Documents/github/mcx-lab/rl-baselines3-zoo/notebooks/inspect_stats.ipynb Cell 5'\u001b[0m in \u001b[0;36m<cell line: 8>\u001b[0;34m()\u001b[0m\n\u001b[1;32m      <a href='vscode-notebook-cell:/home/daniel/Documents/github/mcx-lab/rl-baselines3-zoo/notebooks/inspect_stats.ipynb#ch0000004?line=1'>2</a>\u001b[0m stats_dirs \u001b[39m=\u001b[39m [\n\u001b[1;32m      <a href='vscode-notebook-cell:/home/daniel/Documents/github/mcx-lab/rl-baselines3-zoo/notebooks/inspect_stats.ipynb#ch0000004?line=2'>3</a>\u001b[0m     model_dir \u001b[39m/\u001b[39m \u001b[39m'\u001b[39m\u001b[39mexperiments\u001b[39m\u001b[39m'\u001b[39m \u001b[39m/\u001b[39m \u001b[39m'\u001b[39m\u001b[39mtrain_walk\u001b[39m\u001b[39m'\u001b[39m,\n\u001b[1;32m      <a href='vscode-notebook-cell:/home/daniel/Documents/github/mcx-lab/rl-baselines3-zoo/notebooks/inspect_stats.ipynb#ch0000004?line=3'>4</a>\u001b[0m ]\n\u001b[1;32m      <a href='vscode-notebook-cell:/home/daniel/Documents/github/mcx-lab/rl-baselines3-zoo/notebooks/inspect_stats.ipynb#ch0000004?line=4'>5</a>\u001b[0m \u001b[39m# stats_dir1 = model_dir / 'experiments' / 'vary_freq' / 'train_1.0Hz_test_1.0Hz_alpha_10.0'\u001b[39;00m\n\u001b[1;32m      <a href='vscode-notebook-cell:/home/daniel/Documents/github/mcx-lab/rl-baselines3-zoo/notebooks/inspect_stats.ipynb#ch0000004?line=5'>6</a>\u001b[0m \u001b[39m# stats_dir2 = model_dir / 'experiments' / 'vary_freq' / 'train_1.0Hz_test_2.0Hz'\u001b[39;00m\n\u001b[0;32m----> <a href='vscode-notebook-cell:/home/daniel/Documents/github/mcx-lab/rl-baselines3-zoo/notebooks/inspect_stats.ipynb#ch0000004?line=7'>8</a>\u001b[0m statss \u001b[39m=\u001b[39m [load_robot_states(sd) \u001b[39mfor\u001b[39;00m sd \u001b[39min\u001b[39;00m stats_dirs]\n\u001b[1;32m      <a href='vscode-notebook-cell:/home/daniel/Documents/github/mcx-lab/rl-baselines3-zoo/notebooks/inspect_stats.ipynb#ch0000004?line=8'>9</a>\u001b[0m normalizer \u001b[39m=\u001b[39m load_normalizer(model_dir)\n\u001b[1;32m     <a href='vscode-notebook-cell:/home/daniel/Documents/github/mcx-lab/rl-baselines3-zoo/notebooks/inspect_stats.ipynb#ch0000004?line=10'>11</a>\u001b[0m \u001b[39mdef\u001b[39;00m \u001b[39mplot_foot_contact_sequence\u001b[39m(stats, normalizer):\n",
      "\u001b[1;32m/home/daniel/Documents/github/mcx-lab/rl-baselines3-zoo/notebooks/inspect_stats.ipynb Cell 5'\u001b[0m in \u001b[0;36m<listcomp>\u001b[0;34m(.0)\u001b[0m\n\u001b[1;32m      <a href='vscode-notebook-cell:/home/daniel/Documents/github/mcx-lab/rl-baselines3-zoo/notebooks/inspect_stats.ipynb#ch0000004?line=1'>2</a>\u001b[0m stats_dirs \u001b[39m=\u001b[39m [\n\u001b[1;32m      <a href='vscode-notebook-cell:/home/daniel/Documents/github/mcx-lab/rl-baselines3-zoo/notebooks/inspect_stats.ipynb#ch0000004?line=2'>3</a>\u001b[0m     model_dir \u001b[39m/\u001b[39m \u001b[39m'\u001b[39m\u001b[39mexperiments\u001b[39m\u001b[39m'\u001b[39m \u001b[39m/\u001b[39m \u001b[39m'\u001b[39m\u001b[39mtrain_walk\u001b[39m\u001b[39m'\u001b[39m,\n\u001b[1;32m      <a href='vscode-notebook-cell:/home/daniel/Documents/github/mcx-lab/rl-baselines3-zoo/notebooks/inspect_stats.ipynb#ch0000004?line=3'>4</a>\u001b[0m ]\n\u001b[1;32m      <a href='vscode-notebook-cell:/home/daniel/Documents/github/mcx-lab/rl-baselines3-zoo/notebooks/inspect_stats.ipynb#ch0000004?line=4'>5</a>\u001b[0m \u001b[39m# stats_dir1 = model_dir / 'experiments' / 'vary_freq' / 'train_1.0Hz_test_1.0Hz_alpha_10.0'\u001b[39;00m\n\u001b[1;32m      <a href='vscode-notebook-cell:/home/daniel/Documents/github/mcx-lab/rl-baselines3-zoo/notebooks/inspect_stats.ipynb#ch0000004?line=5'>6</a>\u001b[0m \u001b[39m# stats_dir2 = model_dir / 'experiments' / 'vary_freq' / 'train_1.0Hz_test_2.0Hz'\u001b[39;00m\n\u001b[0;32m----> <a href='vscode-notebook-cell:/home/daniel/Documents/github/mcx-lab/rl-baselines3-zoo/notebooks/inspect_stats.ipynb#ch0000004?line=7'>8</a>\u001b[0m statss \u001b[39m=\u001b[39m [load_robot_states(sd) \u001b[39mfor\u001b[39;00m sd \u001b[39min\u001b[39;00m stats_dirs]\n\u001b[1;32m      <a href='vscode-notebook-cell:/home/daniel/Documents/github/mcx-lab/rl-baselines3-zoo/notebooks/inspect_stats.ipynb#ch0000004?line=8'>9</a>\u001b[0m normalizer \u001b[39m=\u001b[39m load_normalizer(model_dir)\n\u001b[1;32m     <a href='vscode-notebook-cell:/home/daniel/Documents/github/mcx-lab/rl-baselines3-zoo/notebooks/inspect_stats.ipynb#ch0000004?line=10'>11</a>\u001b[0m \u001b[39mdef\u001b[39;00m \u001b[39mplot_foot_contact_sequence\u001b[39m(stats, normalizer):\n",
      "\u001b[1;32m/home/daniel/Documents/github/mcx-lab/rl-baselines3-zoo/notebooks/inspect_stats.ipynb Cell 4'\u001b[0m in \u001b[0;36mload_robot_states\u001b[0;34m(stats_dir)\u001b[0m\n\u001b[1;32m      <a href='vscode-notebook-cell:/home/daniel/Documents/github/mcx-lab/rl-baselines3-zoo/notebooks/inspect_stats.ipynb#ch0000003?line=3'>4</a>\u001b[0m \u001b[39mdef\u001b[39;00m \u001b[39mload_robot_states\u001b[39m(stats_dir):\n\u001b[0;32m----> <a href='vscode-notebook-cell:/home/daniel/Documents/github/mcx-lab/rl-baselines3-zoo/notebooks/inspect_stats.ipynb#ch0000003?line=4'>5</a>\u001b[0m     motor_position \u001b[39m=\u001b[39m np\u001b[39m.\u001b[39;49mload(stats_dir \u001b[39m/\u001b[39;49m \u001b[39m'\u001b[39;49m\u001b[39mmotor_position.npy\u001b[39;49m\u001b[39m'\u001b[39;49m)\n\u001b[1;32m      <a href='vscode-notebook-cell:/home/daniel/Documents/github/mcx-lab/rl-baselines3-zoo/notebooks/inspect_stats.ipynb#ch0000003?line=5'>6</a>\u001b[0m     \u001b[39mprint\u001b[39m(motor_position\u001b[39m.\u001b[39mshape)\n\u001b[1;32m      <a href='vscode-notebook-cell:/home/daniel/Documents/github/mcx-lab/rl-baselines3-zoo/notebooks/inspect_stats.ipynb#ch0000003?line=6'>7</a>\u001b[0m     motor_velocity \u001b[39m=\u001b[39m np\u001b[39m.\u001b[39mload(stats_dir \u001b[39m/\u001b[39m \u001b[39m'\u001b[39m\u001b[39mmotor_velocity.npy\u001b[39m\u001b[39m'\u001b[39m)\n",
      "File \u001b[0;32m~/anaconda3/envs/rl-baselines-zoo-cu113/lib/python3.8/site-packages/numpy/lib/npyio.py:417\u001b[0m, in \u001b[0;36mload\u001b[0;34m(file, mmap_mode, allow_pickle, fix_imports, encoding)\u001b[0m\n\u001b[1;32m    <a href='file:///home/daniel/anaconda3/envs/rl-baselines-zoo-cu113/lib/python3.8/site-packages/numpy/lib/npyio.py?line=414'>415</a>\u001b[0m     own_fid \u001b[39m=\u001b[39m \u001b[39mFalse\u001b[39;00m\n\u001b[1;32m    <a href='file:///home/daniel/anaconda3/envs/rl-baselines-zoo-cu113/lib/python3.8/site-packages/numpy/lib/npyio.py?line=415'>416</a>\u001b[0m \u001b[39melse\u001b[39;00m:\n\u001b[0;32m--> <a href='file:///home/daniel/anaconda3/envs/rl-baselines-zoo-cu113/lib/python3.8/site-packages/numpy/lib/npyio.py?line=416'>417</a>\u001b[0m     fid \u001b[39m=\u001b[39m stack\u001b[39m.\u001b[39menter_context(\u001b[39mopen\u001b[39;49m(os_fspath(file), \u001b[39m\"\u001b[39;49m\u001b[39mrb\u001b[39;49m\u001b[39m\"\u001b[39;49m))\n\u001b[1;32m    <a href='file:///home/daniel/anaconda3/envs/rl-baselines-zoo-cu113/lib/python3.8/site-packages/numpy/lib/npyio.py?line=417'>418</a>\u001b[0m     own_fid \u001b[39m=\u001b[39m \u001b[39mTrue\u001b[39;00m\n\u001b[1;32m    <a href='file:///home/daniel/anaconda3/envs/rl-baselines-zoo-cu113/lib/python3.8/site-packages/numpy/lib/npyio.py?line=419'>420</a>\u001b[0m \u001b[39m# Code to distinguish from NumPy binary files and pickles.\u001b[39;00m\n",
      "\u001b[0;31mFileNotFoundError\u001b[0m: [Errno 2] No such file or directory: '/home/daniel/Documents/github/mcx-lab/rl-baselines3-zoo/logs/ppo/A1GymEnv-v0_13/experiments/train_walk/motor_position.npy'"
     ]
    }
   ],
   "source": [
    "model_dir = project_dir / 'logs' / 'ppo' / 'A1GymEnv-v0_13'\n",
    "stats_dirs = [\n",
    "    model_dir / 'experiments' / 'train_trot',\n",
    "]\n",
    "# stats_dir1 = model_dir / 'experiments' / 'vary_freq' / 'train_1.0Hz_test_1.0Hz_alpha_10.0'\n",
    "# stats_dir2 = model_dir / 'experiments' / 'vary_freq' / 'train_1.0Hz_test_2.0Hz'\n",
    "\n",
    "statss = [load_robot_states(sd) for sd in stats_dirs]\n",
    "normalizer = load_normalizer(model_dir)\n",
    "\n",
    "def plot_foot_contact_sequence(stats, normalizer):\n",
    "    import matplotlib.pyplot as plt \n",
    "    \n",
    "    time = stats[0]\n",
    "    nn_obs = stats[4]\n",
    "    raw_obs = normalizer.unnormalize_obs(nn_obs)\n",
    "    ref_foot_contacts = raw_obs[:, 0, -4:]\n",
    "    act_foot_contacts = (0.03 - 2 * stats[3]) / 0.03\n",
    "    # Every cycle will result in an overall +4 to the absolute difference of consec. terms\n",
    "    num_cycles = np.sum(np.abs(ref_foot_contacts[:-1] - ref_foot_contacts[1:]), axis=0) / 4\n",
    "    print(num_cycles)\n",
    "    \n",
    "    plt.figure()\n",
    "    plt.title(f\"Reference foot contacts\")\n",
    "    plt.ylim(0.5, 4.5)\n",
    "    for i in range(4):    \n",
    "        plt.scatter(time[:100], ref_foot_contacts[:100, i] * (i+1), label = foot_names[i])\n",
    "    plt.legend()\n",
    "\n",
    "    \n",
    "    for i in range(4):\n",
    "        plt.figure()\n",
    "        plt.title(f\"{foot_names[i]}\")\n",
    "        plt.plot(time[:200], ref_foot_contacts[:200, i], label = 'Reference')\n",
    "        plt.plot(time[:200], act_foot_contacts[:200, i], label = 'Actual')\n",
    "        plt.legend()\n",
    "\n",
    "for stats in statss:\n",
    "    plot_foot_contact_sequence(stats, normalizer)\n",
    "    "
   ]
  },
  {
   "cell_type": "code",
   "execution_count": 18,
   "metadata": {},
   "outputs": [
    {
     "name": "stdout",
     "output_type": "stream",
     "text": [
      "FR_toe_fixed 0.6211560463283261 9.176601759449187e-108\n",
      "FL_toe_fixed 0.6069344556612525 1.1206987721887597e-101\n",
      "RR_toe_fixed 0.8200731769376132 3.6761901713521376e-244\n",
      "RL_toe_fixed 0.8002502777518077 7.1205398117577525e-224\n",
      "\n"
     ]
    },
    {
     "data": {
      "text/plain": [
       "<matplotlib.legend.Legend at 0x7f8b3a1c1580>"
      ]
     },
     "execution_count": 18,
     "metadata": {},
     "output_type": "execute_result"
    },
    {
     "data": {
      "image/png": "[encoded data removed]",
      "text/plain": [
       "<Figure size 432x288 with 1 Axes>"
      ]
     },
     "metadata": {
      "needs_background": "light"
     },
     "output_type": "display_data"
    }
   ],
   "source": [
    "import matplotlib.pyplot as plt\n",
    "from scipy.stats import spearmanr\n",
    "\n",
    "def compute_correlation(stats, normalizer, ax, label=None):\n",
    "    time = stats[0]\n",
    "    nn_obs = stats[4]\n",
    "    raw_obs = normalizer.unnormalize_obs(nn_obs)\n",
    "    ref_foot_contacts = raw_obs[:, 0, -4:]\n",
    "    act_foot_contacts = 0.03 - stats[3]\n",
    "    corrs = np.zeros(4,)\n",
    "    for i in range(4):\n",
    "        corr, p = spearmanr(act_foot_contacts[:,i], ref_foot_contacts[:,i])\n",
    "        print(foot_names[i], corr, p)\n",
    "        corrs[i] = corr\n",
    "    ax.plot(foot_names, corrs, label=label)\n",
    "    \n",
    "\n",
    "fig, ax = plt.subplots()\n",
    "ax.set_ylim((-1.0, 1.0))\n",
    "labels = ['train_walk']\n",
    "# labels = ['test_1.0Hz', 'test_1.5Hz', 'test_2.0Hz']\n",
    "for i, stats in enumerate(statss):\n",
    "    compute_correlation(stats, normalizer, ax, label = labels[i])\n",
    "    print()\n",
    "ax.set_title(\"Train walk\")\n",
    "ax.set_ylabel(\"Correlation\")\n",
    "ax.legend()"
   ]
  }
 ],
 "metadata": {
  "interpreter": {
   "hash": "924239c912e861bb63de16f658fa12c64674ec5432227e50be139d4e25ff0232"
  },
  "kernelspec": {
   "display_name": "Python 3.7.11 ('motion_imitation')",
   "language": "python",
   "name": "python3"
  },
  "language_info": {
   "codemirror_mode": {
    "name": "ipython",
    "version": 3
   },
   "file_extension": ".py",
   "mimetype": "text/x-python",
   "name": "python",
   "nbconvert_exporter": "python",
   "pygments_lexer": "ipython3",
   "version": "3.8.12"
  },
  "orig_nbformat": 4
 },
 "nbformat": 4,
 "nbformat_minor": 2
}
