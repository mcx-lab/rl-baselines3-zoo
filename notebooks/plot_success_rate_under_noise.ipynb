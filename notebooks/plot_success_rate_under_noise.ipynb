{
 "cells": [
  {
   "cell_type": "code",
   "execution_count": 55,
   "metadata": {},
   "outputs": [
    {
     "data": {
      "text/plain": [
       "PosixPath('/home/dtch1997/github/mcx-lab/rl-baselines3-zoo')"
      ]
     },
     "execution_count": 55,
     "metadata": {},
     "output_type": "execute_result"
    }
   ],
   "source": [
    "from pathlib import Path\n",
    "\n",
    "project_dir = Path('.').absolute().parent\n",
    "project_dir"
   ]
  },
  {
   "cell_type": "markdown",
   "metadata": {},
   "source": [
    "# Inspect logged inputs / outputs\n",
    "\n",
    "Logs generated with `scripts/enjoy_with_logging.py`"
   ]
  },
  {
   "cell_type": "code",
   "execution_count": 56,
   "metadata": {},
   "outputs": [],
   "source": [
    "import numpy as np\n",
    "import pickle \n",
    "import json\n",
    "\n",
    "def load_robot_states(stats_dir):\n",
    "    base_rpy = np.load(stats_dir / 'base_rpy.npy')\n",
    "    base_position = np.load(stats_dir / 'base_position.npy')\n",
    "    base_velocity = np.load(stats_dir / 'base_velocity.npy')\n",
    "    motor_position = np.load(stats_dir / 'motor_position.npy')\n",
    "    motor_velocity = np.load(stats_dir / 'motor_velocity.npy')\n",
    "    ref_displacement = np.load(stats_dir / 'reference_displacement.npy')\n",
    "    act_displacement = np.load(stats_dir / 'actual_displacement.npy')\n",
    "    ref_foot_contacts = np.load(stats_dir / 'reference_foot_contact.npy')\n",
    "    act_foot_contacts = np.load(stats_dir / 'actual_foot_contact.npy')\n",
    "    nn_observations = np.load(stats_dir / 'nn_observations.npy')\n",
    "\n",
    "    reward_component_values = np.load(stats_dir / 'reward_components.npy')\n",
    "    with open(stats_dir / 'reward_component_names.json', 'r') as file:\n",
    "        reward_component_names = json.load(file)\n",
    "    print(nn_observations.shape)\n",
    "    nn_actions = np.load(stats_dir / 'nn_actions.npy')\n",
    "    time = np.load(stats_dir / 'time.npy')\n",
    "    \n",
    "    return {\n",
    "        'time': time, \n",
    "        'base_rpy': base_rpy,\n",
    "        'base_pos': base_position,\n",
    "        'base_vel': base_velocity,\n",
    "        'motor_pos': motor_position, \n",
    "        'motor_vel': motor_velocity, \n",
    "        'ref_displacement': ref_displacement,\n",
    "        'act_displacement': act_displacement,\n",
    "        'ref_foot_contacts': ref_foot_contacts, \n",
    "        'act_foot_contacts': act_foot_contacts, \n",
    "        'nn_obs': nn_observations,\n",
    "        'nn_act': nn_actions,\n",
    "        'reward_component_values': reward_component_values,\n",
    "        'reward_component_names': reward_component_names\n",
    "    }\n",
    "\n",
    "def load_normalizer(model_dir):\n",
    "    with open(model_dir / 'A1GymEnv-v0' / 'vecnormalize.pkl', 'rb') as file:\n",
    "        normalizer = pickle.load(file)\n",
    "    return normalizer"
   ]
  },
  {
   "cell_type": "code",
   "execution_count": 57,
   "metadata": {},
   "outputs": [
    {
     "name": "stdout",
     "output_type": "stream",
     "text": [
      "(1000, 1, 108)\n",
      "(1000, 1, 108)\n",
      "(1000, 1, 108)\n",
      "(1000, 1, 108)\n",
      "(1000, 1, 108)\n",
      "(1000, 1, 108)\n",
      "(1000, 1, 108)\n",
      "(1000, 1, 108)\n",
      "(1000, 1, 108)\n",
      "(1000, 1, 108)\n",
      "(1000, 1, 108)\n",
      "(1000, 1, 108)\n",
      "(1000, 1, 108)\n",
      "(1000, 1, 108)\n",
      "(1000, 1, 108)\n",
      "(1000, 1, 108)\n",
      "(1000, 1, 108)\n",
      "(1000, 1, 108)\n",
      "(1000, 1, 108)\n",
      "(1000, 1, 108)\n"
     ]
    }
   ],
   "source": [
    "import itertools\n",
    "import collections\n",
    "\n",
    "model_dir = project_dir / 'logs' / 'ppo' / 'A1GymEnv-v0_44'\n",
    "foot_names = ['FR', 'FL', 'RR', 'RL']\n",
    "\n",
    "noise_levels = (0.01, 0.02, 0.05, 0.07)\n",
    "seeds = (i for i in range(5))\n",
    "\n",
    "settings = itertools.product(noise_levels, seeds)\n",
    "stats_dirs = collections.defaultdict(list)\n",
    "statss = collections.defaultdict(dict)\n",
    "\n",
    "for setting in settings:\n",
    "    noise_level, seed = setting\n",
    "    stats_dir = model_dir / f'trot-2.0Hz-0.6mps-platform-noise{noise_level}-seed{seed}'\n",
    "    stats = load_robot_states(stats_dir)\n",
    "    stats['name'] = stats_dir.name\n",
    "    statss[noise_level][seed] = stats\n"
   ]
  },
  {
   "cell_type": "markdown",
   "metadata": {},
   "source": [
    "# Calculate Hamming similarity"
   ]
  },
  {
   "cell_type": "code",
   "execution_count": 59,
   "metadata": {},
   "outputs": [
    {
     "name": "stdout",
     "output_type": "stream",
     "text": [
      "0.01 0 0.84899\n",
      "0.01 1 0.86176\n",
      "0.01 2 0.8607899999999999\n",
      "0.01 3 0.8513999999999999\n",
      "0.01 4 0.86\n",
      "0.02 0 0.85539\n",
      "0.02 1 0.83324\n",
      "0.02 2 0.8665700000000001\n",
      "0.02 3 0.84591\n",
      "0.02 4 0.85456\n",
      "0.05 0 0.81411\n",
      "0.05 1 0.84195\n",
      "0.05 2 0.8366199999999999\n",
      "0.05 3 0.82396\n",
      "0.05 4 0.83543\n",
      "0.07 0 0.82866\n",
      "0.07 1 0.8237\n",
      "0.07 2 0.8312299999999999\n",
      "0.07 3 0.8120499999999999\n",
      "0.07 4 0.8283699999999999\n"
     ]
    },
    {
     "name": "stderr",
     "output_type": "stream",
     "text": [
      "/tmp/ipykernel_4698/193188763.py:50: MatplotlibDeprecationWarning: savefig() got unexpected keyword argument \"bbox_layout\" which is no longer supported as of 3.3 and will become an error two minor releases later\n",
      "  fig.savefig(\"with_sensor_noise.pdf\", format=\"pdf\", bbox_layout=\"tight\")\n"
     ]
    },
    {
     "data": {
      "image/png": "[encoded data removed]",
      "text/plain": [
       "<Figure size 432x288 with 1 Axes>"
      ]
     },
     "metadata": {
      "needs_background": "light"
     },
     "output_type": "display_data"
    }
   ],
   "source": [
    "import matplotlib.pyplot as plt\n",
    "\n",
    "NUM_TIMESTEPS = 200\n",
    "\n",
    "google_blue = (66 / 256, 133 / 256, 244 / 256, 1)\n",
    "google_red = (219 / 256, 68 / 256, 55 / 256, 1)\n",
    "google_yellow = (244 / 256, 180 / 256, 0, 1)\n",
    "google_green = (15 / 256, 157 / 256, 88 / 256, 1)\n",
    "\n",
    "foot_names = ['FR', 'FL', 'RR', 'RL']\n",
    "foot_colors = [google_blue, google_red, google_yellow, google_green]\n",
    "\n",
    "def calc_hamming_sim(stats, by_foot=False):\n",
    "    time = stats['time']\n",
    "    ref_foot_contacts = stats['ref_foot_contacts']\n",
    "    act_foot_contacts = stats['act_foot_contacts']\n",
    "\n",
    "    # Divide by 2 since binary entries are [-1, 1] and not [0,1]\n",
    "    diff = np.abs(ref_foot_contacts - act_foot_contacts) / 2\n",
    "    hamming_dist = np.mean(diff, axis=0)\n",
    "    if not by_foot:\n",
    "        hamming_dist = np.mean(hamming_dist)\n",
    "    hamming_sim = 1 - hamming_dist\n",
    "    return hamming_sim\n",
    "\n",
    "def plot_hamming_sim_dist(ax, noise_level, stats_collection):\n",
    "    hamming_sims = []\n",
    "    for seed, stats in stats_collection.items():\n",
    "        hamming_sim = calc_hamming_sim(stats)\n",
    "        print(noise_level, seed, hamming_sim)\n",
    "        hamming_sims.append(hamming_sim)\n",
    "    hamming_sims = np.array(hamming_sims)    \n",
    "\n",
    "    ax.scatter([noise_level] * len(hamming_sims), hamming_sims)\n",
    "\n",
    "def calc_vel_error(stats):\n",
    "    target_vel = stats['']\n",
    "    actual_vel = stats['base_velocity']\n",
    "\n",
    "\n",
    "def plot_velocity_err_dist(ax, noise_level, stats_collection):\n",
    "    hamming_sims = []\n",
    "    for seed, stats in stats_collection.items():\n",
    "        hamming_sim = calc_hamming_sim(stats)\n",
    "        print(noise_level, seed, hamming_sim)\n",
    "        hamming_sims.append(hamming_sim)\n",
    "    hamming_sims = np.array(hamming_sims)    \n",
    "\n",
    "    ax.scatter([noise_level] * len(hamming_sims), hamming_sims)\n",
    "\n",
    "fig, ax = plt.subplots()\n",
    "ax.set_xlabel(\"Gaussian noise scale\")\n",
    "ax.set_ylabel(\"Hamming similarity for all feet\")\n",
    "# ax.set_ylim(0, 1.1)\n",
    "\n",
    "for noise_level, stats_collection in statss.items():\n",
    "    plot_hamming_sim_dist(ax, noise_level, stats_collection)\n",
    "    #for seed, stats in stats_collection.items():\n",
    "    #    hamming_sim = calc_hamming_sim(stats)\n",
    "    #    print(noise_level, seed, hamming_sim)\n",
    "\n",
    "fig.savefig(\"with_sensor_noise.pdf\", format=\"pdf\", bbox_layout=\"tight\")"
   ]
  }
 ],
 "metadata": {
  "kernelspec": {
   "display_name": "Python 3.8.13 ('rl-baselines3-zoo')",
   "language": "python",
   "name": "python3"
  },
  "language_info": {
   "codemirror_mode": {
    "name": "ipython",
    "version": 3
   },
   "file_extension": ".py",
   "mimetype": "text/x-python",
   "name": "python",
   "nbconvert_exporter": "python",
   "pygments_lexer": "ipython3",
   "version": "3.8.13"
  },
  "orig_nbformat": 4,
  "vscode": {
   "interpreter": {
    "hash": "e2b45693051beb004434d4abfe7850193e55356daad13399c41cf46cc1ff6a5e"
   }
  }
 },
 "nbformat": 4,
 "nbformat_minor": 2
}
